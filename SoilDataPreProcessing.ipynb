{
 "cells": [
  {
   "attachments": {},
   "cell_type": "markdown",
   "metadata": {},
   "source": [
    "# “SOIL ANALYSIS FOR CROP PREDICTION”"
   ]
  },
  {
   "cell_type": "code",
   "execution_count": 1,
   "metadata": {},
   "outputs": [],
   "source": [
    "import pandas as pd\n",
    "import warnings\n",
    "warnings.filterwarnings('ignore')"
   ]
  },
  {
   "cell_type": "markdown",
   "metadata": {},
   "source": [
    "## Data Loading"
   ]
  },
  {
   "cell_type": "code",
   "execution_count": 2,
   "metadata": {},
   "outputs": [],
   "source": [
    "import glob\n",
    "\n",
    "all_files = glob.glob('Dataset' + \"/*.csv\")\n",
    "\n",
    "lst = []\n",
    "\n",
    "for filename in all_files:\n",
    "    df = pd.read_csv(filename,skiprows=3)\n",
    "    lst.append(df)"
   ]
  },
  {
   "cell_type": "markdown",
   "metadata": {},
   "source": [
    "The glob module finds all the pathnames matching a specified pattern."
   ]
  },
  {
   "cell_type": "code",
   "execution_count": 3,
   "metadata": {},
   "outputs": [],
   "source": [
    "final_df = pd.concat(lst, axis=0)"
   ]
  },
  {
   "cell_type": "markdown",
   "metadata": {},
   "source": [
    "#### Check the data is loaded or not"
   ]
  },
  {
   "cell_type": "code",
   "execution_count": 4,
   "metadata": {},
   "outputs": [
    {
     "data": {
      "text/plain": [
       "(1001332, 43)"
      ]
     },
     "execution_count": 4,
     "metadata": {},
     "output_type": "execute_result"
    }
   ],
   "source": [
    "final_df.shape"
   ]
  },
  {
   "cell_type": "code",
   "execution_count": 5,
   "metadata": {},
   "outputs": [
    {
     "data": {
      "text/html": [
       "<div>\n",
       "<style scoped>\n",
       "    .dataframe tbody tr th:only-of-type {\n",
       "        vertical-align: middle;\n",
       "    }\n",
       "\n",
       "    .dataframe tbody tr th {\n",
       "        vertical-align: top;\n",
       "    }\n",
       "\n",
       "    .dataframe thead th {\n",
       "        text-align: right;\n",
       "    }\n",
       "</style>\n",
       "<table border=\"1\" class=\"dataframe\">\n",
       "  <thead>\n",
       "    <tr style=\"text-align: right;\">\n",
       "      <th></th>\n",
       "      <th>Textbox48</th>\n",
       "      <th>textbox2</th>\n",
       "      <th>textbox3</th>\n",
       "      <th>Textbox4</th>\n",
       "      <th>textbox5</th>\n",
       "      <th>textbox6</th>\n",
       "      <th>textbox10</th>\n",
       "      <th>textbox11</th>\n",
       "      <th>textbox16</th>\n",
       "      <th>Textbox12</th>\n",
       "      <th>...</th>\n",
       "      <th>OC</th>\n",
       "      <th>N</th>\n",
       "      <th>P</th>\n",
       "      <th>K</th>\n",
       "      <th>S</th>\n",
       "      <th>Zn</th>\n",
       "      <th>Fe</th>\n",
       "      <th>Cu</th>\n",
       "      <th>Mn</th>\n",
       "      <th>B</th>\n",
       "    </tr>\n",
       "  </thead>\n",
       "  <tbody>\n",
       "    <tr>\n",
       "      <th>0</th>\n",
       "      <td>Sr.No.</td>\n",
       "      <td>Sample No.</td>\n",
       "      <td>Farmer Name</td>\n",
       "      <td>Land Area</td>\n",
       "      <td>Khasra No./ Dag No.</td>\n",
       "      <td>Survey No.</td>\n",
       "      <td>Longitude</td>\n",
       "      <td>Latitude</td>\n",
       "      <td>pH</td>\n",
       "      <td>EC</td>\n",
       "      <td>...</td>\n",
       "      <td>0.65000 M</td>\n",
       "      <td>315.40000 M</td>\n",
       "      <td>22.20000 M</td>\n",
       "      <td>292.00000 M</td>\n",
       "      <td>13.90000 S</td>\n",
       "      <td>0.92000 S</td>\n",
       "      <td>4.60000 S</td>\n",
       "      <td>0.78000 S</td>\n",
       "      <td>7.55000 S</td>\n",
       "      <td>0.99000 S</td>\n",
       "    </tr>\n",
       "    <tr>\n",
       "      <th>1</th>\n",
       "      <td>Sr.No.</td>\n",
       "      <td>Sample No.</td>\n",
       "      <td>Farmer Name</td>\n",
       "      <td>Land Area</td>\n",
       "      <td>Khasra No./ Dag No.</td>\n",
       "      <td>Survey No.</td>\n",
       "      <td>Longitude</td>\n",
       "      <td>Latitude</td>\n",
       "      <td>pH</td>\n",
       "      <td>EC</td>\n",
       "      <td>...</td>\n",
       "      <td>0.71000 M</td>\n",
       "      <td>278.20000 L</td>\n",
       "      <td>24.40000 M</td>\n",
       "      <td>298.00000 M</td>\n",
       "      <td>14.50000 S</td>\n",
       "      <td>0.98000 S</td>\n",
       "      <td>4.65000 S</td>\n",
       "      <td>1.75000 S</td>\n",
       "      <td>7.30000 S</td>\n",
       "      <td>0.99000 S</td>\n",
       "    </tr>\n",
       "    <tr>\n",
       "      <th>2</th>\n",
       "      <td>Sr.No.</td>\n",
       "      <td>Sample No.</td>\n",
       "      <td>Farmer Name</td>\n",
       "      <td>Land Area</td>\n",
       "      <td>Khasra No./ Dag No.</td>\n",
       "      <td>Survey No.</td>\n",
       "      <td>Longitude</td>\n",
       "      <td>Latitude</td>\n",
       "      <td>pH</td>\n",
       "      <td>EC</td>\n",
       "      <td>...</td>\n",
       "      <td>0.77000 H</td>\n",
       "      <td>277.50000 L</td>\n",
       "      <td>27.50000 H</td>\n",
       "      <td>237.00000 M</td>\n",
       "      <td>15.50000 S</td>\n",
       "      <td>0.90000 S</td>\n",
       "      <td>4.92000 S</td>\n",
       "      <td>1.85000 S</td>\n",
       "      <td>6.60000 S</td>\n",
       "      <td>0.77000 S</td>\n",
       "    </tr>\n",
       "    <tr>\n",
       "      <th>3</th>\n",
       "      <td>Sr.No.</td>\n",
       "      <td>Sample No.</td>\n",
       "      <td>Farmer Name</td>\n",
       "      <td>Land Area</td>\n",
       "      <td>Khasra No./ Dag No.</td>\n",
       "      <td>Survey No.</td>\n",
       "      <td>Longitude</td>\n",
       "      <td>Latitude</td>\n",
       "      <td>pH</td>\n",
       "      <td>EC</td>\n",
       "      <td>...</td>\n",
       "      <td>0.54000 M</td>\n",
       "      <td>230.50000 L</td>\n",
       "      <td>23.10000 M</td>\n",
       "      <td>267.00000 M</td>\n",
       "      <td>9.50000 D</td>\n",
       "      <td>0.75000 S</td>\n",
       "      <td>3.58000 D</td>\n",
       "      <td>0.99000 S</td>\n",
       "      <td>4.99000 S</td>\n",
       "      <td>0.90000 S</td>\n",
       "    </tr>\n",
       "    <tr>\n",
       "      <th>4</th>\n",
       "      <td>Sr.No.</td>\n",
       "      <td>Sample No.</td>\n",
       "      <td>Farmer Name</td>\n",
       "      <td>Land Area</td>\n",
       "      <td>Khasra No./ Dag No.</td>\n",
       "      <td>Survey No.</td>\n",
       "      <td>Longitude</td>\n",
       "      <td>Latitude</td>\n",
       "      <td>pH</td>\n",
       "      <td>EC</td>\n",
       "      <td>...</td>\n",
       "      <td>0.62000 M</td>\n",
       "      <td>185.10000 L</td>\n",
       "      <td>27.10000 H</td>\n",
       "      <td>285.00000 M</td>\n",
       "      <td>10.50000 S</td>\n",
       "      <td>0.86000 S</td>\n",
       "      <td>3.99000 D</td>\n",
       "      <td>1.10000 S</td>\n",
       "      <td>4.90000 S</td>\n",
       "      <td>0.88000 S</td>\n",
       "    </tr>\n",
       "    <tr>\n",
       "      <th>...</th>\n",
       "      <td>...</td>\n",
       "      <td>...</td>\n",
       "      <td>...</td>\n",
       "      <td>...</td>\n",
       "      <td>...</td>\n",
       "      <td>...</td>\n",
       "      <td>...</td>\n",
       "      <td>...</td>\n",
       "      <td>...</td>\n",
       "      <td>...</td>\n",
       "      <td>...</td>\n",
       "      <td>...</td>\n",
       "      <td>...</td>\n",
       "      <td>...</td>\n",
       "      <td>...</td>\n",
       "      <td>...</td>\n",
       "      <td>...</td>\n",
       "      <td>...</td>\n",
       "      <td>...</td>\n",
       "      <td>...</td>\n",
       "      <td>...</td>\n",
       "    </tr>\n",
       "    <tr>\n",
       "      <th>72342</th>\n",
       "      <td>Sr.No.</td>\n",
       "      <td>Sample No.</td>\n",
       "      <td>Farmer Name</td>\n",
       "      <td>Land Area</td>\n",
       "      <td>Khasra No./ Dag No.</td>\n",
       "      <td>Survey No.</td>\n",
       "      <td>Longitude</td>\n",
       "      <td>Latitude</td>\n",
       "      <td>pH</td>\n",
       "      <td>EC</td>\n",
       "      <td>...</td>\n",
       "      <td>0.79000 H</td>\n",
       "      <td>18.90000 VL</td>\n",
       "      <td>12.30000 M</td>\n",
       "      <td>1007.60000 VH</td>\n",
       "      <td>2.35000 D</td>\n",
       "      <td>5.04000 S</td>\n",
       "      <td>0.36000 D</td>\n",
       "      <td>0.10000 D</td>\n",
       "      <td>5.98000 S</td>\n",
       "      <td>5.21000 S</td>\n",
       "    </tr>\n",
       "    <tr>\n",
       "      <th>72343</th>\n",
       "      <td>Sr.No.</td>\n",
       "      <td>Sample No.</td>\n",
       "      <td>Farmer Name</td>\n",
       "      <td>Land Area</td>\n",
       "      <td>Khasra No./ Dag No.</td>\n",
       "      <td>Survey No.</td>\n",
       "      <td>Longitude</td>\n",
       "      <td>Latitude</td>\n",
       "      <td>pH</td>\n",
       "      <td>EC</td>\n",
       "      <td>...</td>\n",
       "      <td>0.79000 H</td>\n",
       "      <td>18.90000 VL</td>\n",
       "      <td>12.30000 M</td>\n",
       "      <td>1007.60000 VH</td>\n",
       "      <td>2.35000 D</td>\n",
       "      <td>5.04000 S</td>\n",
       "      <td>0.36000 D</td>\n",
       "      <td>0.10000 D</td>\n",
       "      <td>5.98000 S</td>\n",
       "      <td>5.21000 S</td>\n",
       "    </tr>\n",
       "    <tr>\n",
       "      <th>72344</th>\n",
       "      <td>Sr.No.</td>\n",
       "      <td>Sample No.</td>\n",
       "      <td>Farmer Name</td>\n",
       "      <td>Land Area</td>\n",
       "      <td>Khasra No./ Dag No.</td>\n",
       "      <td>Survey No.</td>\n",
       "      <td>Longitude</td>\n",
       "      <td>Latitude</td>\n",
       "      <td>pH</td>\n",
       "      <td>EC</td>\n",
       "      <td>...</td>\n",
       "      <td>0.79000 H</td>\n",
       "      <td>18.90000 VL</td>\n",
       "      <td>12.30000 M</td>\n",
       "      <td>1007.60000 VH</td>\n",
       "      <td>2.35000 D</td>\n",
       "      <td>5.04000 S</td>\n",
       "      <td>0.36000 D</td>\n",
       "      <td>0.10000 D</td>\n",
       "      <td>5.98000 S</td>\n",
       "      <td>5.21000 S</td>\n",
       "    </tr>\n",
       "    <tr>\n",
       "      <th>72345</th>\n",
       "      <td>Sr.No.</td>\n",
       "      <td>Sample No.</td>\n",
       "      <td>Farmer Name</td>\n",
       "      <td>Land Area</td>\n",
       "      <td>Khasra No./ Dag No.</td>\n",
       "      <td>Survey No.</td>\n",
       "      <td>Longitude</td>\n",
       "      <td>Latitude</td>\n",
       "      <td>pH</td>\n",
       "      <td>EC</td>\n",
       "      <td>...</td>\n",
       "      <td>0.79000 H</td>\n",
       "      <td>18.90000 VL</td>\n",
       "      <td>12.30000 M</td>\n",
       "      <td>1007.60000 VH</td>\n",
       "      <td>2.35000 D</td>\n",
       "      <td>5.04000 S</td>\n",
       "      <td>0.36000 D</td>\n",
       "      <td>0.10000 D</td>\n",
       "      <td>5.98000 S</td>\n",
       "      <td>5.21000 S</td>\n",
       "    </tr>\n",
       "    <tr>\n",
       "      <th>72346</th>\n",
       "      <td>Sr.No.</td>\n",
       "      <td>Sample No.</td>\n",
       "      <td>Farmer Name</td>\n",
       "      <td>Land Area</td>\n",
       "      <td>Khasra No./ Dag No.</td>\n",
       "      <td>Survey No.</td>\n",
       "      <td>Longitude</td>\n",
       "      <td>Latitude</td>\n",
       "      <td>pH</td>\n",
       "      <td>EC</td>\n",
       "      <td>...</td>\n",
       "      <td>0.87000 H</td>\n",
       "      <td>59.58000 VL</td>\n",
       "      <td>16.20000 M</td>\n",
       "      <td>411.90000 H</td>\n",
       "      <td>2.35000 D</td>\n",
       "      <td>3.10000 S</td>\n",
       "      <td>5.30000 S</td>\n",
       "      <td>1.21000 S</td>\n",
       "      <td>10.50000 S</td>\n",
       "      <td>0.18000 D</td>\n",
       "    </tr>\n",
       "  </tbody>\n",
       "</table>\n",
       "<p>1001332 rows × 43 columns</p>\n",
       "</div>"
      ],
      "text/plain": [
       "      Textbox48    textbox2     textbox3   Textbox4             textbox5  \\\n",
       "0        Sr.No.  Sample No.  Farmer Name  Land Area  Khasra No./ Dag No.   \n",
       "1        Sr.No.  Sample No.  Farmer Name  Land Area  Khasra No./ Dag No.   \n",
       "2        Sr.No.  Sample No.  Farmer Name  Land Area  Khasra No./ Dag No.   \n",
       "3        Sr.No.  Sample No.  Farmer Name  Land Area  Khasra No./ Dag No.   \n",
       "4        Sr.No.  Sample No.  Farmer Name  Land Area  Khasra No./ Dag No.   \n",
       "...         ...         ...          ...        ...                  ...   \n",
       "72342    Sr.No.  Sample No.  Farmer Name  Land Area  Khasra No./ Dag No.   \n",
       "72343    Sr.No.  Sample No.  Farmer Name  Land Area  Khasra No./ Dag No.   \n",
       "72344    Sr.No.  Sample No.  Farmer Name  Land Area  Khasra No./ Dag No.   \n",
       "72345    Sr.No.  Sample No.  Farmer Name  Land Area  Khasra No./ Dag No.   \n",
       "72346    Sr.No.  Sample No.  Farmer Name  Land Area  Khasra No./ Dag No.   \n",
       "\n",
       "         textbox6  textbox10 textbox11 textbox16 Textbox12  ...          OC  \\\n",
       "0      Survey No.  Longitude  Latitude        pH        EC  ...  0.65000 M    \n",
       "1      Survey No.  Longitude  Latitude        pH        EC  ...  0.71000 M    \n",
       "2      Survey No.  Longitude  Latitude        pH        EC  ...  0.77000 H    \n",
       "3      Survey No.  Longitude  Latitude        pH        EC  ...  0.54000 M    \n",
       "4      Survey No.  Longitude  Latitude        pH        EC  ...  0.62000 M    \n",
       "...           ...        ...       ...       ...       ...  ...         ...   \n",
       "72342  Survey No.  Longitude  Latitude        pH        EC  ...  0.79000 H    \n",
       "72343  Survey No.  Longitude  Latitude        pH        EC  ...  0.79000 H    \n",
       "72344  Survey No.  Longitude  Latitude        pH        EC  ...  0.79000 H    \n",
       "72345  Survey No.  Longitude  Latitude        pH        EC  ...  0.79000 H    \n",
       "72346  Survey No.  Longitude  Latitude        pH        EC  ...  0.87000 H    \n",
       "\n",
       "                  N            P              K           S         Zn  \\\n",
       "0      315.40000 M   22.20000 M    292.00000 M   13.90000 S  0.92000 S   \n",
       "1      278.20000 L   24.40000 M    298.00000 M   14.50000 S  0.98000 S   \n",
       "2      277.50000 L   27.50000 H    237.00000 M   15.50000 S  0.90000 S   \n",
       "3      230.50000 L   23.10000 M    267.00000 M    9.50000 D  0.75000 S   \n",
       "4      185.10000 L   27.10000 H    285.00000 M   10.50000 S  0.86000 S   \n",
       "...             ...          ...            ...         ...        ...   \n",
       "72342   18.90000 VL  12.30000 M   1007.60000 VH   2.35000 D  5.04000 S   \n",
       "72343   18.90000 VL  12.30000 M   1007.60000 VH   2.35000 D  5.04000 S   \n",
       "72344   18.90000 VL  12.30000 M   1007.60000 VH   2.35000 D  5.04000 S   \n",
       "72345   18.90000 VL  12.30000 M   1007.60000 VH   2.35000 D  5.04000 S   \n",
       "72346   59.58000 VL  16.20000 M    411.90000 H    2.35000 D  3.10000 S   \n",
       "\n",
       "              Fe         Cu          Mn          B  \n",
       "0      4.60000 S  0.78000 S   7.55000 S  0.99000 S  \n",
       "1      4.65000 S  1.75000 S   7.30000 S  0.99000 S  \n",
       "2      4.92000 S  1.85000 S   6.60000 S  0.77000 S  \n",
       "3      3.58000 D  0.99000 S   4.99000 S  0.90000 S  \n",
       "4      3.99000 D  1.10000 S   4.90000 S  0.88000 S  \n",
       "...          ...        ...         ...        ...  \n",
       "72342  0.36000 D  0.10000 D   5.98000 S  5.21000 S  \n",
       "72343  0.36000 D  0.10000 D   5.98000 S  5.21000 S  \n",
       "72344  0.36000 D  0.10000 D   5.98000 S  5.21000 S  \n",
       "72345  0.36000 D  0.10000 D   5.98000 S  5.21000 S  \n",
       "72346  5.30000 S  1.21000 S  10.50000 S  0.18000 D  \n",
       "\n",
       "[1001332 rows x 43 columns]"
      ]
     },
     "execution_count": 5,
     "metadata": {},
     "output_type": "execute_result"
    }
   ],
   "source": [
    "final_df"
   ]
  },
  {
   "cell_type": "code",
   "execution_count": 6,
   "metadata": {},
   "outputs": [
    {
     "data": {
      "text/plain": [
       "Index(['Textbox48', 'textbox2', 'textbox3', 'Textbox4', 'textbox5', 'textbox6',\n",
       "       'textbox10', 'textbox11', 'textbox16', 'Textbox12', 'Textbox17',\n",
       "       'Textbox19', 'Textbox21', 'Textbox23', 'Textbox25', 'Textbox27',\n",
       "       'Textbox29', 'Textbox31', 'Textbox33', 'Textbox35',\n",
       "       'sub_district_name_english1', 'Textbox49', 'sub_district_name_english',\n",
       "       'Textbox50', 'sample_no', 'farmername', 'LandArea', 'DagNo', 'SurveyNo',\n",
       "       'longitude', 'Latitude', 'pH', 'EC', 'OC', 'N', 'P', 'K', 'S', 'Zn',\n",
       "       'Fe', 'Cu', 'Mn', 'B'],\n",
       "      dtype='object')"
      ]
     },
     "execution_count": 6,
     "metadata": {},
     "output_type": "execute_result"
    }
   ],
   "source": [
    "final_df.columns"
   ]
  },
  {
   "cell_type": "markdown",
   "metadata": {},
   "source": [
    "#### Remove the unrelated data columns"
   ]
  },
  {
   "cell_type": "code",
   "execution_count": 7,
   "metadata": {},
   "outputs": [],
   "source": [
    "final_df=final_df.drop(columns=['Textbox48', 'textbox2', 'textbox3', 'Textbox4', 'textbox5', 'textbox6',\n",
    "       'textbox10', 'textbox11', 'textbox16', 'Textbox12', 'Textbox17',\n",
    "       'Textbox19', 'Textbox21', 'Textbox23', 'Textbox25', 'Textbox27',\n",
    "       'Textbox29', 'Textbox31', 'Textbox33', 'Textbox35','Textbox49',\n",
    "                                'Textbox50','DagNo','longitude','Latitude','sample_no','farmername','SurveyNo','LandArea'])"
   ]
  },
  {
   "cell_type": "code",
   "execution_count": 8,
   "metadata": {},
   "outputs": [
    {
     "data": {
      "text/plain": [
       "Index(['sub_district_name_english1', 'sub_district_name_english', 'pH', 'EC',\n",
       "       'OC', 'N', 'P', 'K', 'S', 'Zn', 'Fe', 'Cu', 'Mn', 'B'],\n",
       "      dtype='object')"
      ]
     },
     "execution_count": 8,
     "metadata": {},
     "output_type": "execute_result"
    }
   ],
   "source": [
    "final_df.columns"
   ]
  },
  {
   "cell_type": "code",
   "execution_count": 9,
   "metadata": {},
   "outputs": [
    {
     "data": {
      "text/plain": [
       "sub_district_name_english1    object\n",
       "sub_district_name_english     object\n",
       "pH                            object\n",
       "EC                            object\n",
       "OC                            object\n",
       "N                             object\n",
       "P                             object\n",
       "K                             object\n",
       "S                             object\n",
       "Zn                            object\n",
       "Fe                            object\n",
       "Cu                            object\n",
       "Mn                            object\n",
       "B                             object\n",
       "dtype: object"
      ]
     },
     "execution_count": 9,
     "metadata": {},
     "output_type": "execute_result"
    }
   ],
   "source": [
    "final_df.dtypes"
   ]
  },
  {
   "cell_type": "markdown",
   "metadata": {},
   "source": [
    "#### Clean the columns and change the datetype Object to Float64 "
   ]
  },
  {
   "cell_type": "code",
   "execution_count": 10,
   "metadata": {},
   "outputs": [],
   "source": [
    "list=['pH', 'EC', 'OC', 'N', 'P', 'K','S', 'Zn', 'Fe', 'Cu', 'Mn', 'B']\n",
    "\n",
    "for i in range(len(list)):\n",
    "    final_df[list[i]]=final_df[list[i]].str.split().str.get(0).astype('float64')"
   ]
  },
  {
   "cell_type": "code",
   "execution_count": 11,
   "metadata": {},
   "outputs": [
    {
     "data": {
      "text/plain": [
       "sub_district_name_english1     object\n",
       "sub_district_name_english      object\n",
       "pH                            float64\n",
       "EC                            float64\n",
       "OC                            float64\n",
       "N                             float64\n",
       "P                             float64\n",
       "K                             float64\n",
       "S                             float64\n",
       "Zn                            float64\n",
       "Fe                            float64\n",
       "Cu                            float64\n",
       "Mn                            float64\n",
       "B                             float64\n",
       "dtype: object"
      ]
     },
     "execution_count": 11,
     "metadata": {},
     "output_type": "execute_result"
    }
   ],
   "source": [
    "final_df.dtypes"
   ]
  },
  {
   "cell_type": "markdown",
   "metadata": {},
   "source": [
    "#### Rename the district and village names"
   ]
  },
  {
   "cell_type": "code",
   "execution_count": 12,
   "metadata": {},
   "outputs": [],
   "source": [
    "final_df['sub_district_name_english']=final_df['sub_district_name_english'].str.split(n=1).str.get(1)"
   ]
  },
  {
   "cell_type": "code",
   "execution_count": 13,
   "metadata": {},
   "outputs": [],
   "source": [
    "final_df['sub_district_name_english1']=final_df['sub_district_name_english1'].str.split(n=2).str.get(2)"
   ]
  },
  {
   "cell_type": "code",
   "execution_count": 14,
   "metadata": {},
   "outputs": [],
   "source": [
    "final_df=final_df.rename(columns={'sub_district_name_english1':'District','sub_district_name_english':'Village'})"
   ]
  },
  {
   "cell_type": "code",
   "execution_count": 15,
   "metadata": {},
   "outputs": [
    {
     "data": {
      "text/plain": [
       "array(['Shirala', 'Jamner', 'Dhule', 'Malegaon', 'Nashik', 'Junnar',\n",
       "       'Mulshi', 'Yavatmal', 'Washim', 'Wani', 'Nanded', 'Karvir',\n",
       "       'Mukhed', 'Buldana', 'Khamgaon', 'Patan', 'Koregaon', 'Karad',\n",
       "       'Kagal', 'Nagpur (Rural)', 'Bhusawal', 'Jalgaon', 'Akola'],\n",
       "      dtype=object)"
      ]
     },
     "execution_count": 15,
     "metadata": {},
     "output_type": "execute_result"
    }
   ],
   "source": [
    "final_df.District.unique()"
   ]
  },
  {
   "cell_type": "code",
   "execution_count": 16,
   "metadata": {},
   "outputs": [
    {
     "data": {
      "text/html": [
       "<div>\n",
       "<style scoped>\n",
       "    .dataframe tbody tr th:only-of-type {\n",
       "        vertical-align: middle;\n",
       "    }\n",
       "\n",
       "    .dataframe tbody tr th {\n",
       "        vertical-align: top;\n",
       "    }\n",
       "\n",
       "    .dataframe thead th {\n",
       "        text-align: right;\n",
       "    }\n",
       "</style>\n",
       "<table border=\"1\" class=\"dataframe\">\n",
       "  <thead>\n",
       "    <tr style=\"text-align: right;\">\n",
       "      <th></th>\n",
       "      <th>District</th>\n",
       "      <th>Village</th>\n",
       "      <th>pH</th>\n",
       "      <th>EC</th>\n",
       "      <th>OC</th>\n",
       "      <th>N</th>\n",
       "      <th>P</th>\n",
       "      <th>K</th>\n",
       "      <th>S</th>\n",
       "      <th>Zn</th>\n",
       "      <th>Fe</th>\n",
       "      <th>Cu</th>\n",
       "      <th>Mn</th>\n",
       "      <th>B</th>\n",
       "    </tr>\n",
       "  </thead>\n",
       "  <tbody>\n",
       "    <tr>\n",
       "      <th>0</th>\n",
       "      <td>Shirala</td>\n",
       "      <td>Ambewadi</td>\n",
       "      <td>6.51</td>\n",
       "      <td>0.21</td>\n",
       "      <td>0.65</td>\n",
       "      <td>315.40</td>\n",
       "      <td>22.2</td>\n",
       "      <td>292.0</td>\n",
       "      <td>13.90</td>\n",
       "      <td>0.92</td>\n",
       "      <td>4.60</td>\n",
       "      <td>0.78</td>\n",
       "      <td>7.55</td>\n",
       "      <td>0.99</td>\n",
       "    </tr>\n",
       "    <tr>\n",
       "      <th>1</th>\n",
       "      <td>Shirala</td>\n",
       "      <td>Ambewadi</td>\n",
       "      <td>6.70</td>\n",
       "      <td>0.10</td>\n",
       "      <td>0.71</td>\n",
       "      <td>278.20</td>\n",
       "      <td>24.4</td>\n",
       "      <td>298.0</td>\n",
       "      <td>14.50</td>\n",
       "      <td>0.98</td>\n",
       "      <td>4.65</td>\n",
       "      <td>1.75</td>\n",
       "      <td>7.30</td>\n",
       "      <td>0.99</td>\n",
       "    </tr>\n",
       "    <tr>\n",
       "      <th>2</th>\n",
       "      <td>Shirala</td>\n",
       "      <td>Ambewadi</td>\n",
       "      <td>6.75</td>\n",
       "      <td>0.11</td>\n",
       "      <td>0.77</td>\n",
       "      <td>277.50</td>\n",
       "      <td>27.5</td>\n",
       "      <td>237.0</td>\n",
       "      <td>15.50</td>\n",
       "      <td>0.90</td>\n",
       "      <td>4.92</td>\n",
       "      <td>1.85</td>\n",
       "      <td>6.60</td>\n",
       "      <td>0.77</td>\n",
       "    </tr>\n",
       "    <tr>\n",
       "      <th>3</th>\n",
       "      <td>Shirala</td>\n",
       "      <td>Ambewadi</td>\n",
       "      <td>6.54</td>\n",
       "      <td>0.13</td>\n",
       "      <td>0.54</td>\n",
       "      <td>230.50</td>\n",
       "      <td>23.1</td>\n",
       "      <td>267.0</td>\n",
       "      <td>9.50</td>\n",
       "      <td>0.75</td>\n",
       "      <td>3.58</td>\n",
       "      <td>0.99</td>\n",
       "      <td>4.99</td>\n",
       "      <td>0.90</td>\n",
       "    </tr>\n",
       "    <tr>\n",
       "      <th>4</th>\n",
       "      <td>Shirala</td>\n",
       "      <td>Ambewadi</td>\n",
       "      <td>6.59</td>\n",
       "      <td>0.18</td>\n",
       "      <td>0.62</td>\n",
       "      <td>185.10</td>\n",
       "      <td>27.1</td>\n",
       "      <td>285.0</td>\n",
       "      <td>10.50</td>\n",
       "      <td>0.86</td>\n",
       "      <td>3.99</td>\n",
       "      <td>1.10</td>\n",
       "      <td>4.90</td>\n",
       "      <td>0.88</td>\n",
       "    </tr>\n",
       "    <tr>\n",
       "      <th>...</th>\n",
       "      <td>...</td>\n",
       "      <td>...</td>\n",
       "      <td>...</td>\n",
       "      <td>...</td>\n",
       "      <td>...</td>\n",
       "      <td>...</td>\n",
       "      <td>...</td>\n",
       "      <td>...</td>\n",
       "      <td>...</td>\n",
       "      <td>...</td>\n",
       "      <td>...</td>\n",
       "      <td>...</td>\n",
       "      <td>...</td>\n",
       "      <td>...</td>\n",
       "    </tr>\n",
       "    <tr>\n",
       "      <th>72342</th>\n",
       "      <td>Akola</td>\n",
       "      <td>Waranghushi</td>\n",
       "      <td>6.67</td>\n",
       "      <td>0.51</td>\n",
       "      <td>0.79</td>\n",
       "      <td>18.90</td>\n",
       "      <td>12.3</td>\n",
       "      <td>1007.6</td>\n",
       "      <td>2.35</td>\n",
       "      <td>5.04</td>\n",
       "      <td>0.36</td>\n",
       "      <td>0.10</td>\n",
       "      <td>5.98</td>\n",
       "      <td>5.21</td>\n",
       "    </tr>\n",
       "    <tr>\n",
       "      <th>72343</th>\n",
       "      <td>Akola</td>\n",
       "      <td>Waranghushi</td>\n",
       "      <td>6.67</td>\n",
       "      <td>0.51</td>\n",
       "      <td>0.79</td>\n",
       "      <td>18.90</td>\n",
       "      <td>12.3</td>\n",
       "      <td>1007.6</td>\n",
       "      <td>2.35</td>\n",
       "      <td>5.04</td>\n",
       "      <td>0.36</td>\n",
       "      <td>0.10</td>\n",
       "      <td>5.98</td>\n",
       "      <td>5.21</td>\n",
       "    </tr>\n",
       "    <tr>\n",
       "      <th>72344</th>\n",
       "      <td>Akola</td>\n",
       "      <td>Waranghushi</td>\n",
       "      <td>6.67</td>\n",
       "      <td>0.51</td>\n",
       "      <td>0.79</td>\n",
       "      <td>18.90</td>\n",
       "      <td>12.3</td>\n",
       "      <td>1007.6</td>\n",
       "      <td>2.35</td>\n",
       "      <td>5.04</td>\n",
       "      <td>0.36</td>\n",
       "      <td>0.10</td>\n",
       "      <td>5.98</td>\n",
       "      <td>5.21</td>\n",
       "    </tr>\n",
       "    <tr>\n",
       "      <th>72345</th>\n",
       "      <td>Akola</td>\n",
       "      <td>Waranghushi</td>\n",
       "      <td>6.67</td>\n",
       "      <td>0.51</td>\n",
       "      <td>0.79</td>\n",
       "      <td>18.90</td>\n",
       "      <td>12.3</td>\n",
       "      <td>1007.6</td>\n",
       "      <td>2.35</td>\n",
       "      <td>5.04</td>\n",
       "      <td>0.36</td>\n",
       "      <td>0.10</td>\n",
       "      <td>5.98</td>\n",
       "      <td>5.21</td>\n",
       "    </tr>\n",
       "    <tr>\n",
       "      <th>72346</th>\n",
       "      <td>Akola</td>\n",
       "      <td>Waranghushi</td>\n",
       "      <td>7.02</td>\n",
       "      <td>0.42</td>\n",
       "      <td>0.87</td>\n",
       "      <td>59.58</td>\n",
       "      <td>16.2</td>\n",
       "      <td>411.9</td>\n",
       "      <td>2.35</td>\n",
       "      <td>3.10</td>\n",
       "      <td>5.30</td>\n",
       "      <td>1.21</td>\n",
       "      <td>10.50</td>\n",
       "      <td>0.18</td>\n",
       "    </tr>\n",
       "  </tbody>\n",
       "</table>\n",
       "<p>1001332 rows × 14 columns</p>\n",
       "</div>"
      ],
      "text/plain": [
       "      District      Village    pH    EC    OC       N     P       K      S  \\\n",
       "0      Shirala     Ambewadi  6.51  0.21  0.65  315.40  22.2   292.0  13.90   \n",
       "1      Shirala     Ambewadi  6.70  0.10  0.71  278.20  24.4   298.0  14.50   \n",
       "2      Shirala     Ambewadi  6.75  0.11  0.77  277.50  27.5   237.0  15.50   \n",
       "3      Shirala     Ambewadi  6.54  0.13  0.54  230.50  23.1   267.0   9.50   \n",
       "4      Shirala     Ambewadi  6.59  0.18  0.62  185.10  27.1   285.0  10.50   \n",
       "...        ...          ...   ...   ...   ...     ...   ...     ...    ...   \n",
       "72342    Akola  Waranghushi  6.67  0.51  0.79   18.90  12.3  1007.6   2.35   \n",
       "72343    Akola  Waranghushi  6.67  0.51  0.79   18.90  12.3  1007.6   2.35   \n",
       "72344    Akola  Waranghushi  6.67  0.51  0.79   18.90  12.3  1007.6   2.35   \n",
       "72345    Akola  Waranghushi  6.67  0.51  0.79   18.90  12.3  1007.6   2.35   \n",
       "72346    Akola  Waranghushi  7.02  0.42  0.87   59.58  16.2   411.9   2.35   \n",
       "\n",
       "         Zn    Fe    Cu     Mn     B  \n",
       "0      0.92  4.60  0.78   7.55  0.99  \n",
       "1      0.98  4.65  1.75   7.30  0.99  \n",
       "2      0.90  4.92  1.85   6.60  0.77  \n",
       "3      0.75  3.58  0.99   4.99  0.90  \n",
       "4      0.86  3.99  1.10   4.90  0.88  \n",
       "...     ...   ...   ...    ...   ...  \n",
       "72342  5.04  0.36  0.10   5.98  5.21  \n",
       "72343  5.04  0.36  0.10   5.98  5.21  \n",
       "72344  5.04  0.36  0.10   5.98  5.21  \n",
       "72345  5.04  0.36  0.10   5.98  5.21  \n",
       "72346  3.10  5.30  1.21  10.50  0.18  \n",
       "\n",
       "[1001332 rows x 14 columns]"
      ]
     },
     "execution_count": 16,
     "metadata": {},
     "output_type": "execute_result"
    }
   ],
   "source": [
    "final_df"
   ]
  },
  {
   "cell_type": "markdown",
   "metadata": {},
   "source": [
    "## Data Cleaning "
   ]
  },
  {
   "cell_type": "code",
   "execution_count": 17,
   "metadata": {},
   "outputs": [],
   "source": [
    "import matplotlib.pyplot as plt\n",
    "import pandas as pd"
   ]
  },
  {
   "cell_type": "code",
   "execution_count": 18,
   "metadata": {
    "scrolled": false
   },
   "outputs": [
    {
     "data": {
      "image/png": "[encoded data removed]",
      "text/plain": [
       "<Figure size 1080x360 with 1 Axes>"
      ]
     },
     "metadata": {
      "needs_background": "light"
     },
     "output_type": "display_data"
    },
    {
     "data": {
      "image/png": "[encoded data removed]",
      "text/plain": [
       "<Figure size 1080x360 with 1 Axes>"
      ]
     },
     "metadata": {
      "needs_background": "light"
     },
     "output_type": "display_data"
    },
    {
     "data": {
      "image/png": "[encoded data removed]",
      "text/plain": [
       "<Figure size 1080x360 with 1 Axes>"
      ]
     },
     "metadata": {
      "needs_background": "light"
     },
     "output_type": "display_data"
    },
    {
     "data": {
      "image/png": "[encoded data removed]",
      "text/plain": [
       "<Figure size 1080x360 with 1 Axes>"
      ]
     },
     "metadata": {
      "needs_background": "light"
     },
     "output_type": "display_data"
    },
    {
     "data": {
      "image/png": "[encoded data removed]",
      "text/plain": [
       "<Figure size 1080x360 with 1 Axes>"
      ]
     },
     "metadata": {
      "needs_background": "light"
     },
     "output_type": "display_data"
    },
    {
     "data": {
      "image/png": "[encoded data removed]",
      "text/plain": [
       "<Figure size 1080x360 with 1 Axes>"
      ]
     },
     "metadata": {
      "needs_background": "light"
     },
     "output_type": "display_data"
    },
    {
     "data": {
      "image/png": "[encoded data removed]",
      "text/plain": [
       "<Figure size 1080x360 with 1 Axes>"
      ]
     },
     "metadata": {
      "needs_background": "light"
     },
     "output_type": "display_data"
    },
    {
     "data": {
      "image/png": "[encoded data removed]",
      "text/plain": [
       "<Figure size 1080x360 with 1 Axes>"
      ]
     },
     "metadata": {
      "needs_background": "light"
     },
     "output_type": "display_data"
    },
    {
     "data": {
      "image/png": "[encoded data removed]",
      "text/plain": [
       "<Figure size 1080x360 with 1 Axes>"
      ]
     },
     "metadata": {
      "needs_background": "light"
     },
     "output_type": "display_data"
    },
    {
     "data": {
      "image/png": "[encoded data removed]",
      "text/plain": [
       "<Figure size 1080x360 with 1 Axes>"
      ]
     },
     "metadata": {
      "needs_background": "light"
     },
     "output_type": "display_data"
    },
    {
     "data": {
      "image/png": "[encoded data removed]",
      "text/plain": [
       "<Figure size 1080x360 with 1 Axes>"
      ]
     },
     "metadata": {
      "needs_background": "light"
     },
     "output_type": "display_data"
    },
    {
     "data": {
      "image/png": "[encoded data removed]",
      "text/plain": [
       "<Figure size 1080x360 with 1 Axes>"
      ]
     },
     "metadata": {
      "needs_background": "light"
     },
     "output_type": "display_data"
    }
   ],
   "source": [
    "for i in list:\n",
    "    final_df.boxplot(column=[i],grid=False,fontsize=15,figsize=(15,5),vert=False)\n",
    "    plt.show()"
   ]
  },
  {
   "cell_type": "markdown",
   "metadata": {},
   "source": [
    "The above boxplots of features shows the outliers. This outliers are then rearranged because they were formed by miss placing \n",
    "of decimal point."
   ]
  },
  {
   "cell_type": "code",
   "execution_count": 19,
   "metadata": {},
   "outputs": [
    {
     "data": {
      "text/html": [
       "<div>\n",
       "<style scoped>\n",
       "    .dataframe tbody tr th:only-of-type {\n",
       "        vertical-align: middle;\n",
       "    }\n",
       "\n",
       "    .dataframe tbody tr th {\n",
       "        vertical-align: top;\n",
       "    }\n",
       "\n",
       "    .dataframe thead th {\n",
       "        text-align: right;\n",
       "    }\n",
       "</style>\n",
       "<table border=\"1\" class=\"dataframe\">\n",
       "  <thead>\n",
       "    <tr style=\"text-align: right;\">\n",
       "      <th></th>\n",
       "      <th>pH</th>\n",
       "      <th>EC</th>\n",
       "      <th>OC</th>\n",
       "      <th>N</th>\n",
       "      <th>P</th>\n",
       "      <th>K</th>\n",
       "      <th>S</th>\n",
       "      <th>Zn</th>\n",
       "      <th>Fe</th>\n",
       "      <th>Cu</th>\n",
       "      <th>Mn</th>\n",
       "      <th>B</th>\n",
       "    </tr>\n",
       "  </thead>\n",
       "  <tbody>\n",
       "    <tr>\n",
       "      <th>count</th>\n",
       "      <td>1.000991e+06</td>\n",
       "      <td>1.000740e+06</td>\n",
       "      <td>1.000274e+06</td>\n",
       "      <td>992301.000000</td>\n",
       "      <td>1.000164e+06</td>\n",
       "      <td>1.000105e+06</td>\n",
       "      <td>981566.000000</td>\n",
       "      <td>999747.000000</td>\n",
       "      <td>999309.000000</td>\n",
       "      <td>984698.000000</td>\n",
       "      <td>983246.000000</td>\n",
       "      <td>981173.000000</td>\n",
       "    </tr>\n",
       "    <tr>\n",
       "      <th>mean</th>\n",
       "      <td>7.509138e+00</td>\n",
       "      <td>4.349006e-01</td>\n",
       "      <td>6.401881e-01</td>\n",
       "      <td>235.000074</td>\n",
       "      <td>2.780307e+01</td>\n",
       "      <td>4.672235e+02</td>\n",
       "      <td>16.123028</td>\n",
       "      <td>1.116628</td>\n",
       "      <td>6.709451</td>\n",
       "      <td>2.382050</td>\n",
       "      <td>13.427666</td>\n",
       "      <td>1.105368</td>\n",
       "    </tr>\n",
       "    <tr>\n",
       "      <th>std</th>\n",
       "      <td>1.099017e+00</td>\n",
       "      <td>6.402650e-01</td>\n",
       "      <td>1.228059e+00</td>\n",
       "      <td>163.832598</td>\n",
       "      <td>7.707047e+01</td>\n",
       "      <td>6.187624e+02</td>\n",
       "      <td>99.680298</td>\n",
       "      <td>34.593394</td>\n",
       "      <td>13.806355</td>\n",
       "      <td>6.048007</td>\n",
       "      <td>19.252872</td>\n",
       "      <td>8.604620</td>\n",
       "    </tr>\n",
       "    <tr>\n",
       "      <th>min</th>\n",
       "      <td>0.000000e+00</td>\n",
       "      <td>0.000000e+00</td>\n",
       "      <td>0.000000e+00</td>\n",
       "      <td>0.000000</td>\n",
       "      <td>0.000000e+00</td>\n",
       "      <td>0.000000e+00</td>\n",
       "      <td>0.000000</td>\n",
       "      <td>0.000000</td>\n",
       "      <td>0.000000</td>\n",
       "      <td>0.000000</td>\n",
       "      <td>0.000000</td>\n",
       "      <td>0.000000</td>\n",
       "    </tr>\n",
       "    <tr>\n",
       "      <th>25%</th>\n",
       "      <td>7.160000e+00</td>\n",
       "      <td>1.900000e-01</td>\n",
       "      <td>3.600000e-01</td>\n",
       "      <td>156.800000</td>\n",
       "      <td>1.050000e+01</td>\n",
       "      <td>2.673400e+02</td>\n",
       "      <td>5.000000</td>\n",
       "      <td>0.360000</td>\n",
       "      <td>2.350000</td>\n",
       "      <td>0.680000</td>\n",
       "      <td>3.750000</td>\n",
       "      <td>0.330000</td>\n",
       "    </tr>\n",
       "    <tr>\n",
       "      <th>50%</th>\n",
       "      <td>7.600000e+00</td>\n",
       "      <td>3.300000e-01</td>\n",
       "      <td>5.100000e-01</td>\n",
       "      <td>206.970000</td>\n",
       "      <td>1.756800e+01</td>\n",
       "      <td>4.085800e+02</td>\n",
       "      <td>11.350000</td>\n",
       "      <td>0.640000</td>\n",
       "      <td>4.140000</td>\n",
       "      <td>1.510000</td>\n",
       "      <td>8.320000</td>\n",
       "      <td>0.638600</td>\n",
       "    </tr>\n",
       "    <tr>\n",
       "      <th>75%</th>\n",
       "      <td>7.930000e+00</td>\n",
       "      <td>5.500000e-01</td>\n",
       "      <td>7.720000e-01</td>\n",
       "      <td>277.360000</td>\n",
       "      <td>3.073000e+01</td>\n",
       "      <td>6.075000e+02</td>\n",
       "      <td>18.100000</td>\n",
       "      <td>0.990000</td>\n",
       "      <td>6.610000</td>\n",
       "      <td>2.810000</td>\n",
       "      <td>15.120000</td>\n",
       "      <td>1.093000</td>\n",
       "    </tr>\n",
       "    <tr>\n",
       "      <th>max</th>\n",
       "      <td>8.802000e+01</td>\n",
       "      <td>4.700000e+01</td>\n",
       "      <td>9.500000e+01</td>\n",
       "      <td>9811.530000</td>\n",
       "      <td>9.584000e+03</td>\n",
       "      <td>9.744000e+04</td>\n",
       "      <td>75945.000000</td>\n",
       "      <td>30090.000000</td>\n",
       "      <td>927.000000</td>\n",
       "      <td>912.000000</td>\n",
       "      <td>889.000000</td>\n",
       "      <td>934.000000</td>\n",
       "    </tr>\n",
       "  </tbody>\n",
       "</table>\n",
       "</div>"
      ],
      "text/plain": [
       "                 pH            EC            OC              N             P  \\\n",
       "count  1.000991e+06  1.000740e+06  1.000274e+06  992301.000000  1.000164e+06   \n",
       "mean   7.509138e+00  4.349006e-01  6.401881e-01     235.000074  2.780307e+01   \n",
       "std    1.099017e+00  6.402650e-01  1.228059e+00     163.832598  7.707047e+01   \n",
       "min    0.000000e+00  0.000000e+00  0.000000e+00       0.000000  0.000000e+00   \n",
       "25%    7.160000e+00  1.900000e-01  3.600000e-01     156.800000  1.050000e+01   \n",
       "50%    7.600000e+00  3.300000e-01  5.100000e-01     206.970000  1.756800e+01   \n",
       "75%    7.930000e+00  5.500000e-01  7.720000e-01     277.360000  3.073000e+01   \n",
       "max    8.802000e+01  4.700000e+01  9.500000e+01    9811.530000  9.584000e+03   \n",
       "\n",
       "                  K              S             Zn             Fe  \\\n",
       "count  1.000105e+06  981566.000000  999747.000000  999309.000000   \n",
       "mean   4.672235e+02      16.123028       1.116628       6.709451   \n",
       "std    6.187624e+02      99.680298      34.593394      13.806355   \n",
       "min    0.000000e+00       0.000000       0.000000       0.000000   \n",
       "25%    2.673400e+02       5.000000       0.360000       2.350000   \n",
       "50%    4.085800e+02      11.350000       0.640000       4.140000   \n",
       "75%    6.075000e+02      18.100000       0.990000       6.610000   \n",
       "max    9.744000e+04   75945.000000   30090.000000     927.000000   \n",
       "\n",
       "                  Cu             Mn              B  \n",
       "count  984698.000000  983246.000000  981173.000000  \n",
       "mean        2.382050      13.427666       1.105368  \n",
       "std         6.048007      19.252872       8.604620  \n",
       "min         0.000000       0.000000       0.000000  \n",
       "25%         0.680000       3.750000       0.330000  \n",
       "50%         1.510000       8.320000       0.638600  \n",
       "75%         2.810000      15.120000       1.093000  \n",
       "max       912.000000     889.000000     934.000000  "
      ]
     },
     "execution_count": 19,
     "metadata": {},
     "output_type": "execute_result"
    }
   ],
   "source": [
    "final_df.describe()"
   ]
  },
  {
   "cell_type": "code",
   "execution_count": 20,
   "metadata": {},
   "outputs": [
    {
     "data": {
      "text/plain": [
       "Text(0.5, 0, 'pH')"
      ]
     },
     "execution_count": 20,
     "metadata": {},
     "output_type": "execute_result"
    },
    {
     "data": {
      "image/png": "[encoded data removed]",
      "text/plain": [
       "<Figure size 432x288 with 1 Axes>"
      ]
     },
     "metadata": {
      "needs_background": "light"
     },
     "output_type": "display_data"
    }
   ],
   "source": [
    "final_df.pH[final_df['pH']>14]=final_df.pH[final_df['pH']>14]*0.1\n",
    "\n",
    "plt.hist(final_df['pH'])\n",
    "plt.xlabel('pH',fontsize=15)"
   ]
  },
  {
   "cell_type": "code",
   "execution_count": 21,
   "metadata": {},
   "outputs": [
    {
     "data": {
      "text/plain": [
       "Text(0.5, 0, 'Electrical Conductivity')"
      ]
     },
     "execution_count": 21,
     "metadata": {},
     "output_type": "execute_result"
    },
    {
     "data": {
      "image/png": "[encoded data removed]",
      "text/plain": [
       "<Figure size 432x288 with 1 Axes>"
      ]
     },
     "metadata": {
      "needs_background": "light"
     },
     "output_type": "display_data"
    }
   ],
   "source": [
    "plt.hist(final_df['EC'],range=(-1,5))\n",
    "plt.xlabel('Electrical Conductivity',fontsize=15)"
   ]
  },
  {
   "cell_type": "code",
   "execution_count": 22,
   "metadata": {},
   "outputs": [
    {
     "data": {
      "text/plain": [
       "Text(0.5, 0, 'Organic Carbon')"
      ]
     },
     "execution_count": 22,
     "metadata": {},
     "output_type": "execute_result"
    },
    {
     "data": {
      "image/png": "[encoded data removed]",
      "text/plain": [
       "<Figure size 432x288 with 1 Axes>"
      ]
     },
     "metadata": {
      "needs_background": "light"
     },
     "output_type": "display_data"
    }
   ],
   "source": [
    "plt.hist(final_df['OC'],range=(-1,5))\n",
    "plt.xlabel('Organic Carbon',fontsize=15)"
   ]
  },
  {
   "cell_type": "code",
   "execution_count": 23,
   "metadata": {},
   "outputs": [
    {
     "data": {
      "text/plain": [
       "Text(0.5, 0, 'Nitrogen')"
      ]
     },
     "execution_count": 23,
     "metadata": {},
     "output_type": "execute_result"
    },
    {
     "data": {
      "image/png": "[encoded data removed]",
      "text/plain": [
       "<Figure size 432x288 with 1 Axes>"
      ]
     },
     "metadata": {
      "needs_background": "light"
     },
     "output_type": "display_data"
    }
   ],
   "source": [
    "final_df.N[final_df['N']>1000]=final_df.N[final_df['N']>1000]*0.1\n",
    "\n",
    "plt.hist(final_df['N'])\n",
    "plt.xlabel('Nitrogen',fontsize=15)"
   ]
  },
  {
   "cell_type": "code",
   "execution_count": 24,
   "metadata": {},
   "outputs": [
    {
     "data": {
      "text/plain": [
       "Text(0.5, 0, 'Phosphorus')"
      ]
     },
     "execution_count": 24,
     "metadata": {},
     "output_type": "execute_result"
    },
    {
     "data": {
      "image/png": "[encoded data removed]",
      "text/plain": [
       "<Figure size 432x288 with 1 Axes>"
      ]
     },
     "metadata": {
      "needs_background": "light"
     },
     "output_type": "display_data"
    }
   ],
   "source": [
    "final_df.P[final_df['P']>1000]=final_df.P[final_df['P']>1000]*0.1\n",
    "final_df.P[final_df['P']>100]=final_df.P[final_df['P']>100]*0.1\n",
    "final_df.P[(final_df['P']>10)&(final_df['P']<15)]=final_df.P[(final_df['P']>10)&(final_df['P']<15)]*10\n",
    "\n",
    "plt.hist(final_df['P'])\n",
    "plt.xlabel('Phosphorus',fontsize=15)"
   ]
  },
  {
   "cell_type": "code",
   "execution_count": 25,
   "metadata": {},
   "outputs": [
    {
     "data": {
      "text/plain": [
       "Text(0.5, 0, 'Potassium')"
      ]
     },
     "execution_count": 25,
     "metadata": {},
     "output_type": "execute_result"
    },
    {
     "data": {
      "image/png": "[encoded data removed]",
      "text/plain": [
       "<Figure size 432x288 with 1 Axes>"
      ]
     },
     "metadata": {
      "needs_background": "light"
     },
     "output_type": "display_data"
    }
   ],
   "source": [
    "final_df.K[final_df['K']>10000]=final_df.K[final_df['K']>10000]*0.01\n",
    "final_df.K[final_df['K']>1000]=final_df.K[final_df['K']>1000]*0.1\n",
    "\n",
    "plt.hist(final_df['K'])\n",
    "plt.xlabel('Potassium',fontsize=15)"
   ]
  },
  {
   "cell_type": "code",
   "execution_count": 26,
   "metadata": {},
   "outputs": [
    {
     "data": {
      "text/plain": [
       "Text(0.5, 0, 'Sulphur')"
      ]
     },
     "execution_count": 26,
     "metadata": {},
     "output_type": "execute_result"
    },
    {
     "data": {
      "image/png": "[encoded data removed]",
      "text/plain": [
       "<Figure size 432x288 with 1 Axes>"
      ]
     },
     "metadata": {
      "needs_background": "light"
     },
     "output_type": "display_data"
    }
   ],
   "source": [
    "final_df.S[final_df['S']>1000]=final_df.S[final_df['S']>1000]*0.01\n",
    "final_df.S[final_df['S']>50]=final_df.S[final_df['S']>50]*0.1\n",
    "\n",
    "plt.hist(final_df['S'])\n",
    "plt.xlabel('Sulphur',fontsize=15)"
   ]
  },
  {
   "cell_type": "code",
   "execution_count": 27,
   "metadata": {},
   "outputs": [
    {
     "data": {
      "text/plain": [
       "Text(0.5, 0, 'Zinc')"
      ]
     },
     "execution_count": 27,
     "metadata": {},
     "output_type": "execute_result"
    },
    {
     "data": {
      "image/png": "[encoded data removed]",
      "text/plain": [
       "<Figure size 432x288 with 1 Axes>"
      ]
     },
     "metadata": {
      "needs_background": "light"
     },
     "output_type": "display_data"
    }
   ],
   "source": [
    "final_df.Zn[final_df['Zn']>1000]=final_df.Zn[final_df['Zn']>1000]*0.001\n",
    "final_df.Zn[final_df['Zn']>5]=final_df.Zn[final_df['Zn']>5]*0.1\n",
    "\n",
    "plt.hist(final_df['Zn'],range=(-1,6))\n",
    "plt.xlabel('Zinc',fontsize=15)"
   ]
  },
  {
   "cell_type": "code",
   "execution_count": 28,
   "metadata": {},
   "outputs": [
    {
     "data": {
      "text/plain": [
       "Text(0.5, 0, 'Iron')"
      ]
     },
     "execution_count": 28,
     "metadata": {},
     "output_type": "execute_result"
    },
    {
     "data": {
      "image/png": "[encoded data removed]",
      "text/plain": [
       "<Figure size 432x288 with 1 Axes>"
      ]
     },
     "metadata": {
      "needs_background": "light"
     },
     "output_type": "display_data"
    }
   ],
   "source": [
    "final_df.Fe[final_df['Fe']>50]=final_df.Fe[final_df['Fe']>50]*0.1\n",
    "\n",
    "plt.hist(final_df['Fe'])\n",
    "plt.xlabel('Iron',fontsize=15)"
   ]
  },
  {
   "cell_type": "code",
   "execution_count": 29,
   "metadata": {},
   "outputs": [
    {
     "data": {
      "text/plain": [
       "Text(0.5, 0, 'Copper')"
      ]
     },
     "execution_count": 29,
     "metadata": {},
     "output_type": "execute_result"
    },
    {
     "data": {
      "image/png": "[encoded data removed]",
      "text/plain": [
       "<Figure size 432x288 with 1 Axes>"
      ]
     },
     "metadata": {
      "needs_background": "light"
     },
     "output_type": "display_data"
    }
   ],
   "source": [
    "final_df.Cu[final_df['Cu']>5]=final_df.Cu[final_df['Cu']>5]*0.1\n",
    "\n",
    "plt.hist(final_df['Cu'],range=(-1,8))\n",
    "plt.xlabel('Copper',fontsize=15)"
   ]
  },
  {
   "cell_type": "code",
   "execution_count": 30,
   "metadata": {},
   "outputs": [
    {
     "data": {
      "text/plain": [
       "Text(0.5, 0, 'Manganese')"
      ]
     },
     "execution_count": 30,
     "metadata": {},
     "output_type": "execute_result"
    },
    {
     "data": {
      "image/png": "[encoded data removed]",
      "text/plain": [
       "<Figure size 432x288 with 1 Axes>"
      ]
     },
     "metadata": {
      "needs_background": "light"
     },
     "output_type": "display_data"
    }
   ],
   "source": [
    "final_df.Mn[final_df['Mn']>100]=final_df.Mn[final_df['Mn']>100]*0.1\n",
    "final_df.Mn[final_df['Mn']>50]=final_df.Mn[final_df['Mn']>50]*0.1\n",
    "\n",
    "plt.hist(final_df['Mn'])\n",
    "plt.xlabel('Manganese',fontsize=15)"
   ]
  },
  {
   "cell_type": "code",
   "execution_count": 31,
   "metadata": {},
   "outputs": [
    {
     "data": {
      "text/plain": [
       "Text(0.5, 0, 'Boron')"
      ]
     },
     "execution_count": 31,
     "metadata": {},
     "output_type": "execute_result"
    },
    {
     "data": {
      "image/png": "[encoded data removed]",
      "text/plain": [
       "<Figure size 432x288 with 1 Axes>"
      ]
     },
     "metadata": {
      "needs_background": "light"
     },
     "output_type": "display_data"
    }
   ],
   "source": [
    "final_df.B[final_df['B']>100]=final_df.B[final_df['B']>100]*0.01\n",
    "final_df.B[final_df['B']>10]=final_df.B[final_df['B']>10]*0.1\n",
    "final_df.B[final_df['B']>5]=final_df.B[final_df['B']>5]*0.1\n",
    "\n",
    "plt.hist(final_df.B)\n",
    "plt.xlabel('Boron',fontsize=15)"
   ]
  },
  {
   "cell_type": "markdown",
   "metadata": {},
   "source": [
    "All above histograms shows: \n",
    "1. Histogram of pH column shows the data is normally distributed and have pH scale range i.e 0 to 14.  \n",
    "2. Histrgram of Electrical Conductivity shows that the data is normally distributed in range -1 to 4. \n",
    "3. Histogram of Organic Carbon shows the data is normally distributed in range -1 to 3.\n",
    "4. Histrgram of Nitrogen and Potassium shows that the data is normally distributed.\n",
    "5. Histrgram of Phosphorus, Sulphur, Iron, Zinc, Copper, Manganese and Boron shows that the data is Right Skewed."
   ]
  },
  {
   "cell_type": "markdown",
   "metadata": {},
   "source": [
    "#### Showing NA Values in DATA"
   ]
  },
  {
   "cell_type": "code",
   "execution_count": 32,
   "metadata": {},
   "outputs": [
    {
     "data": {
      "text/plain": [
       "District        0\n",
       "Village         0\n",
       "pH            341\n",
       "EC            592\n",
       "OC           1058\n",
       "N            9031\n",
       "P            1168\n",
       "K            1227\n",
       "S           19766\n",
       "Zn           1585\n",
       "Fe           2023\n",
       "Cu          16634\n",
       "Mn          18086\n",
       "B           20159\n",
       "dtype: int64"
      ]
     },
     "execution_count": 32,
     "metadata": {},
     "output_type": "execute_result"
    }
   ],
   "source": [
    "final_df.isna().sum()"
   ]
  },
  {
   "cell_type": "code",
   "execution_count": 33,
   "metadata": {},
   "outputs": [],
   "source": [
    "for col in list:\n",
    "    final_df[col] = final_df[col].fillna(final_df[col].mean())"
   ]
  },
  {
   "cell_type": "markdown",
   "metadata": {},
   "source": [
    "#### All NA values are filled by mean of the particular column."
   ]
  },
  {
   "cell_type": "code",
   "execution_count": 34,
   "metadata": {},
   "outputs": [
    {
     "data": {
      "text/plain": [
       "District    0\n",
       "Village     0\n",
       "pH          0\n",
       "EC          0\n",
       "OC          0\n",
       "N           0\n",
       "P           0\n",
       "K           0\n",
       "S           0\n",
       "Zn          0\n",
       "Fe          0\n",
       "Cu          0\n",
       "Mn          0\n",
       "B           0\n",
       "dtype: int64"
      ]
     },
     "execution_count": 34,
     "metadata": {},
     "output_type": "execute_result"
    }
   ],
   "source": [
    "final_df.isna().sum()"
   ]
  },
  {
   "cell_type": "markdown",
   "metadata": {},
   "source": [
    "#### Removing the outliers on dataset"
   ]
  },
  {
   "cell_type": "code",
   "execution_count": 35,
   "metadata": {},
   "outputs": [],
   "source": [
    "x=final_df\n",
    "final_df=x[(x.N<600)&(x.OC<1.8)&(x.EC<1)&(x.K<600)&(x.S<25)&(x.Zn<1.75)&(x.Fe<10)&(x.Cu<3.5)&(x.Mn<20)&(x.B<1.2)]"
   ]
  },
  {
   "cell_type": "code",
   "execution_count": 36,
   "metadata": {
    "scrolled": false
   },
   "outputs": [
    {
     "data": {
      "image/png": "[encoded data removed]",
      "text/plain": [
       "<Figure size 1080x360 with 1 Axes>"
      ]
     },
     "metadata": {
      "needs_background": "light"
     },
     "output_type": "display_data"
    },
    {
     "data": {
      "image/png": "[encoded data removed]",
      "text/plain": [
       "<Figure size 1080x360 with 1 Axes>"
      ]
     },
     "metadata": {
      "needs_background": "light"
     },
     "output_type": "display_data"
    },
    {
     "data": {
      "image/png": "[encoded data removed]",
      "text/plain": [
       "<Figure size 1080x360 with 1 Axes>"
      ]
     },
     "metadata": {
      "needs_background": "light"
     },
     "output_type": "display_data"
    },
    {
     "data": {
      "image/png": "[encoded data removed]",
      "text/plain": [
       "<Figure size 1080x360 with 1 Axes>"
      ]
     },
     "metadata": {
      "needs_background": "light"
     },
     "output_type": "display_data"
    },
    {
     "data": {
      "image/png": "[encoded data removed]",
      "text/plain": [
       "<Figure size 1080x360 with 1 Axes>"
      ]
     },
     "metadata": {
      "needs_background": "light"
     },
     "output_type": "display_data"
    },
    {
     "data": {
      "image/png": "[encoded data removed]",
      "text/plain": [
       "<Figure size 1080x360 with 1 Axes>"
      ]
     },
     "metadata": {
      "needs_background": "light"
     },
     "output_type": "display_data"
    },
    {
     "data": {
      "image/png": "[encoded data removed]",
      "text/plain": [
       "<Figure size 1080x360 with 1 Axes>"
      ]
     },
     "metadata": {
      "needs_background": "light"
     },
     "output_type": "display_data"
    },
    {
     "data": {
      "image/png": "[encoded data removed]",
      "text/plain": [
       "<Figure size 1080x360 with 1 Axes>"
      ]
     },
     "metadata": {
      "needs_background": "light"
     },
     "output_type": "display_data"
    },
    {
     "data": {
      "image/png": "[encoded data removed]",
      "text/plain": [
       "<Figure size 1080x360 with 1 Axes>"
      ]
     },
     "metadata": {
      "needs_background": "light"
     },
     "output_type": "display_data"
    },
    {
     "data": {
      "image/png": "[encoded data removed]",
      "text/plain": [
       "<Figure size 1080x360 with 1 Axes>"
      ]
     },
     "metadata": {
      "needs_background": "light"
     },
     "output_type": "display_data"
    },
    {
     "data": {
      "image/png": "[encoded data removed]",
      "text/plain": [
       "<Figure size 1080x360 with 1 Axes>"
      ]
     },
     "metadata": {
      "needs_background": "light"
     },
     "output_type": "display_data"
    },
    {
     "data": {
      "image/png": "[encoded data removed]",
      "text/plain": [
       "<Figure size 1080x360 with 1 Axes>"
      ]
     },
     "metadata": {
      "needs_background": "light"
     },
     "output_type": "display_data"
    }
   ],
   "source": [
    "for i in list:\n",
    "    final_df.boxplot(column=[i],grid=False,fontsize=15,figsize=(15,5),vert=False)\n",
    "    plt.show()"
   ]
  },
  {
   "cell_type": "code",
   "execution_count": 37,
   "metadata": {
    "scrolled": true
   },
   "outputs": [
    {
     "data": {
      "text/html": [
       "<div>\n",
       "<style scoped>\n",
       "    .dataframe tbody tr th:only-of-type {\n",
       "        vertical-align: middle;\n",
       "    }\n",
       "\n",
       "    .dataframe tbody tr th {\n",
       "        vertical-align: top;\n",
       "    }\n",
       "\n",
       "    .dataframe thead th {\n",
       "        text-align: right;\n",
       "    }\n",
       "</style>\n",
       "<table border=\"1\" class=\"dataframe\">\n",
       "  <thead>\n",
       "    <tr style=\"text-align: right;\">\n",
       "      <th></th>\n",
       "      <th>pH</th>\n",
       "      <th>EC</th>\n",
       "      <th>OC</th>\n",
       "      <th>N</th>\n",
       "      <th>P</th>\n",
       "      <th>K</th>\n",
       "      <th>S</th>\n",
       "      <th>Zn</th>\n",
       "      <th>Fe</th>\n",
       "      <th>Cu</th>\n",
       "      <th>Mn</th>\n",
       "      <th>B</th>\n",
       "    </tr>\n",
       "  </thead>\n",
       "  <tbody>\n",
       "    <tr>\n",
       "      <th>count</th>\n",
       "      <td>382044.000000</td>\n",
       "      <td>382044.000000</td>\n",
       "      <td>382044.000000</td>\n",
       "      <td>382044.000000</td>\n",
       "      <td>382044.000000</td>\n",
       "      <td>382044.000000</td>\n",
       "      <td>382044.000000</td>\n",
       "      <td>382044.000000</td>\n",
       "      <td>382044.000000</td>\n",
       "      <td>382044.000000</td>\n",
       "      <td>382044.000000</td>\n",
       "      <td>382044.000000</td>\n",
       "    </tr>\n",
       "    <tr>\n",
       "      <th>mean</th>\n",
       "      <td>7.598288</td>\n",
       "      <td>0.373487</td>\n",
       "      <td>0.527824</td>\n",
       "      <td>215.844401</td>\n",
       "      <td>44.234811</td>\n",
       "      <td>343.327658</td>\n",
       "      <td>10.277231</td>\n",
       "      <td>0.605900</td>\n",
       "      <td>3.977187</td>\n",
       "      <td>1.272761</td>\n",
       "      <td>7.440922</td>\n",
       "      <td>0.558094</td>\n",
       "    </tr>\n",
       "    <tr>\n",
       "      <th>std</th>\n",
       "      <td>0.570395</td>\n",
       "      <td>0.223019</td>\n",
       "      <td>0.293835</td>\n",
       "      <td>92.327783</td>\n",
       "      <td>44.763997</td>\n",
       "      <td>142.049968</td>\n",
       "      <td>6.125789</td>\n",
       "      <td>0.338035</td>\n",
       "      <td>2.234140</td>\n",
       "      <td>0.829772</td>\n",
       "      <td>4.730600</td>\n",
       "      <td>0.318128</td>\n",
       "    </tr>\n",
       "    <tr>\n",
       "      <th>min</th>\n",
       "      <td>0.060000</td>\n",
       "      <td>0.000000</td>\n",
       "      <td>0.000000</td>\n",
       "      <td>0.000000</td>\n",
       "      <td>0.000000</td>\n",
       "      <td>0.000000</td>\n",
       "      <td>0.000000</td>\n",
       "      <td>0.000000</td>\n",
       "      <td>0.000000</td>\n",
       "      <td>0.000000</td>\n",
       "      <td>0.000000</td>\n",
       "      <td>0.000000</td>\n",
       "    </tr>\n",
       "    <tr>\n",
       "      <th>25%</th>\n",
       "      <td>7.300000</td>\n",
       "      <td>0.183000</td>\n",
       "      <td>0.330000</td>\n",
       "      <td>151.000000</td>\n",
       "      <td>9.920000</td>\n",
       "      <td>241.900000</td>\n",
       "      <td>4.846000</td>\n",
       "      <td>0.350000</td>\n",
       "      <td>2.270000</td>\n",
       "      <td>0.590000</td>\n",
       "      <td>3.610000</td>\n",
       "      <td>0.300000</td>\n",
       "    </tr>\n",
       "    <tr>\n",
       "      <th>50%</th>\n",
       "      <td>7.690000</td>\n",
       "      <td>0.330000</td>\n",
       "      <td>0.460000</td>\n",
       "      <td>200.700000</td>\n",
       "      <td>23.000000</td>\n",
       "      <td>350.640000</td>\n",
       "      <td>10.360000</td>\n",
       "      <td>0.570000</td>\n",
       "      <td>3.890000</td>\n",
       "      <td>1.100000</td>\n",
       "      <td>7.000000</td>\n",
       "      <td>0.545000</td>\n",
       "    </tr>\n",
       "    <tr>\n",
       "      <th>75%</th>\n",
       "      <td>8.000000</td>\n",
       "      <td>0.520000</td>\n",
       "      <td>0.640188</td>\n",
       "      <td>263.424000</td>\n",
       "      <td>66.000000</td>\n",
       "      <td>455.200000</td>\n",
       "      <td>14.610000</td>\n",
       "      <td>0.800000</td>\n",
       "      <td>5.390000</td>\n",
       "      <td>1.820000</td>\n",
       "      <td>10.470000</td>\n",
       "      <td>0.810300</td>\n",
       "    </tr>\n",
       "    <tr>\n",
       "      <th>max</th>\n",
       "      <td>12.800000</td>\n",
       "      <td>0.999000</td>\n",
       "      <td>1.797000</td>\n",
       "      <td>599.900000</td>\n",
       "      <td>149.990400</td>\n",
       "      <td>599.960000</td>\n",
       "      <td>24.980000</td>\n",
       "      <td>1.744000</td>\n",
       "      <td>9.990000</td>\n",
       "      <td>3.490000</td>\n",
       "      <td>19.980000</td>\n",
       "      <td>1.199000</td>\n",
       "    </tr>\n",
       "  </tbody>\n",
       "</table>\n",
       "</div>"
      ],
      "text/plain": [
       "                  pH             EC             OC              N  \\\n",
       "count  382044.000000  382044.000000  382044.000000  382044.000000   \n",
       "mean        7.598288       0.373487       0.527824     215.844401   \n",
       "std         0.570395       0.223019       0.293835      92.327783   \n",
       "min         0.060000       0.000000       0.000000       0.000000   \n",
       "25%         7.300000       0.183000       0.330000     151.000000   \n",
       "50%         7.690000       0.330000       0.460000     200.700000   \n",
       "75%         8.000000       0.520000       0.640188     263.424000   \n",
       "max        12.800000       0.999000       1.797000     599.900000   \n",
       "\n",
       "                   P              K              S             Zn  \\\n",
       "count  382044.000000  382044.000000  382044.000000  382044.000000   \n",
       "mean       44.234811     343.327658      10.277231       0.605900   \n",
       "std        44.763997     142.049968       6.125789       0.338035   \n",
       "min         0.000000       0.000000       0.000000       0.000000   \n",
       "25%         9.920000     241.900000       4.846000       0.350000   \n",
       "50%        23.000000     350.640000      10.360000       0.570000   \n",
       "75%        66.000000     455.200000      14.610000       0.800000   \n",
       "max       149.990400     599.960000      24.980000       1.744000   \n",
       "\n",
       "                  Fe             Cu             Mn              B  \n",
       "count  382044.000000  382044.000000  382044.000000  382044.000000  \n",
       "mean        3.977187       1.272761       7.440922       0.558094  \n",
       "std         2.234140       0.829772       4.730600       0.318128  \n",
       "min         0.000000       0.000000       0.000000       0.000000  \n",
       "25%         2.270000       0.590000       3.610000       0.300000  \n",
       "50%         3.890000       1.100000       7.000000       0.545000  \n",
       "75%         5.390000       1.820000      10.470000       0.810300  \n",
       "max         9.990000       3.490000      19.980000       1.199000  "
      ]
     },
     "execution_count": 37,
     "metadata": {},
     "output_type": "execute_result"
    }
   ],
   "source": [
    "final_df.describe()"
   ]
  },
  {
   "cell_type": "markdown",
   "metadata": {},
   "source": [
    "Above description shows total count of data in each columns, Mean of each columns which represents the data, Standard Deviation shows the measure of how spread out numbers are in each column, Minimum and Maximum values present in each column, and the Inter Quantile Ranges which shows the measure of variability, based on dividing a data set into  4 quartiles."
   ]
  },
  {
   "cell_type": "markdown",
   "metadata": {},
   "source": [
    "#### New Soil_type column is added on the basis of pH scale."
   ]
  },
  {
   "cell_type": "code",
   "execution_count": 38,
   "metadata": {},
   "outputs": [],
   "source": [
    "final_df['Soil_type']=''\n",
    "\n",
    "final_df.Soil_type[(final_df['pH']<5)]='Strong Acidic'\n",
    "\n",
    "final_df.Soil_type[(final_df['pH']>=5)&(final_df['pH']<6.5)]='Slightly Acidic'\n",
    "\n",
    "final_df.Soil_type[(final_df['pH']>=6.5)&(final_df['pH']<=8)]='Neutral'\n",
    "\n",
    "final_df.Soil_type[(final_df['pH']>8)&(final_df['pH']<=8.5)]='Slighty alkaline'\n",
    "\n",
    "final_df.Soil_type[(final_df['pH']>8.5)]='Strongly alkaline'"
   ]
  },
  {
   "cell_type": "markdown",
   "metadata": {},
   "source": [
    "Vegetables and other plants grow best when the soil pH is optimal for the plants being grown.\n",
    "Most plants grow between the pH range of 4.5 to 8.0; a soil pH of 5.0 has a high acid content;\n",
    "a soil pH of 8.5 has a high alkaline content; a soil pH of 7.0 is neutral. A soil pH test will determine a soil's pH."
   ]
  },
  {
   "cell_type": "code",
   "execution_count": 39,
   "metadata": {},
   "outputs": [
    {
     "data": {
      "text/html": [
       "<div>\n",
       "<style scoped>\n",
       "    .dataframe tbody tr th:only-of-type {\n",
       "        vertical-align: middle;\n",
       "    }\n",
       "\n",
       "    .dataframe tbody tr th {\n",
       "        vertical-align: top;\n",
       "    }\n",
       "\n",
       "    .dataframe thead th {\n",
       "        text-align: right;\n",
       "    }\n",
       "</style>\n",
       "<table border=\"1\" class=\"dataframe\">\n",
       "  <thead>\n",
       "    <tr style=\"text-align: right;\">\n",
       "      <th></th>\n",
       "      <th>District</th>\n",
       "      <th>Village</th>\n",
       "      <th>pH</th>\n",
       "      <th>EC</th>\n",
       "      <th>OC</th>\n",
       "      <th>N</th>\n",
       "      <th>P</th>\n",
       "      <th>K</th>\n",
       "      <th>S</th>\n",
       "      <th>Zn</th>\n",
       "      <th>Fe</th>\n",
       "      <th>Cu</th>\n",
       "      <th>Mn</th>\n",
       "      <th>B</th>\n",
       "      <th>Soil_type</th>\n",
       "    </tr>\n",
       "  </thead>\n",
       "  <tbody>\n",
       "    <tr>\n",
       "      <th>0</th>\n",
       "      <td>Shirala</td>\n",
       "      <td>Ambewadi</td>\n",
       "      <td>6.51</td>\n",
       "      <td>0.21</td>\n",
       "      <td>0.65</td>\n",
       "      <td>315.4</td>\n",
       "      <td>22.2</td>\n",
       "      <td>292.00</td>\n",
       "      <td>13.90</td>\n",
       "      <td>0.920</td>\n",
       "      <td>4.60</td>\n",
       "      <td>0.78</td>\n",
       "      <td>7.55</td>\n",
       "      <td>0.990</td>\n",
       "      <td>Neutral</td>\n",
       "    </tr>\n",
       "    <tr>\n",
       "      <th>1</th>\n",
       "      <td>Shirala</td>\n",
       "      <td>Ambewadi</td>\n",
       "      <td>6.70</td>\n",
       "      <td>0.10</td>\n",
       "      <td>0.71</td>\n",
       "      <td>278.2</td>\n",
       "      <td>24.4</td>\n",
       "      <td>298.00</td>\n",
       "      <td>14.50</td>\n",
       "      <td>0.980</td>\n",
       "      <td>4.65</td>\n",
       "      <td>1.75</td>\n",
       "      <td>7.30</td>\n",
       "      <td>0.990</td>\n",
       "      <td>Neutral</td>\n",
       "    </tr>\n",
       "    <tr>\n",
       "      <th>2</th>\n",
       "      <td>Shirala</td>\n",
       "      <td>Ambewadi</td>\n",
       "      <td>6.75</td>\n",
       "      <td>0.11</td>\n",
       "      <td>0.77</td>\n",
       "      <td>277.5</td>\n",
       "      <td>27.5</td>\n",
       "      <td>237.00</td>\n",
       "      <td>15.50</td>\n",
       "      <td>0.900</td>\n",
       "      <td>4.92</td>\n",
       "      <td>1.85</td>\n",
       "      <td>6.60</td>\n",
       "      <td>0.770</td>\n",
       "      <td>Neutral</td>\n",
       "    </tr>\n",
       "    <tr>\n",
       "      <th>3</th>\n",
       "      <td>Shirala</td>\n",
       "      <td>Ambewadi</td>\n",
       "      <td>6.54</td>\n",
       "      <td>0.13</td>\n",
       "      <td>0.54</td>\n",
       "      <td>230.5</td>\n",
       "      <td>23.1</td>\n",
       "      <td>267.00</td>\n",
       "      <td>9.50</td>\n",
       "      <td>0.750</td>\n",
       "      <td>3.58</td>\n",
       "      <td>0.99</td>\n",
       "      <td>4.99</td>\n",
       "      <td>0.900</td>\n",
       "      <td>Neutral</td>\n",
       "    </tr>\n",
       "    <tr>\n",
       "      <th>4</th>\n",
       "      <td>Shirala</td>\n",
       "      <td>Ambewadi</td>\n",
       "      <td>6.59</td>\n",
       "      <td>0.18</td>\n",
       "      <td>0.62</td>\n",
       "      <td>185.1</td>\n",
       "      <td>27.1</td>\n",
       "      <td>285.00</td>\n",
       "      <td>10.50</td>\n",
       "      <td>0.860</td>\n",
       "      <td>3.99</td>\n",
       "      <td>1.10</td>\n",
       "      <td>4.90</td>\n",
       "      <td>0.880</td>\n",
       "      <td>Neutral</td>\n",
       "    </tr>\n",
       "    <tr>\n",
       "      <th>...</th>\n",
       "      <td>...</td>\n",
       "      <td>...</td>\n",
       "      <td>...</td>\n",
       "      <td>...</td>\n",
       "      <td>...</td>\n",
       "      <td>...</td>\n",
       "      <td>...</td>\n",
       "      <td>...</td>\n",
       "      <td>...</td>\n",
       "      <td>...</td>\n",
       "      <td>...</td>\n",
       "      <td>...</td>\n",
       "      <td>...</td>\n",
       "      <td>...</td>\n",
       "      <td>...</td>\n",
       "    </tr>\n",
       "    <tr>\n",
       "      <th>72341</th>\n",
       "      <td>Akola</td>\n",
       "      <td>Waranghushi</td>\n",
       "      <td>6.67</td>\n",
       "      <td>0.51</td>\n",
       "      <td>0.79</td>\n",
       "      <td>18.9</td>\n",
       "      <td>123.0</td>\n",
       "      <td>100.76</td>\n",
       "      <td>2.35</td>\n",
       "      <td>0.504</td>\n",
       "      <td>0.36</td>\n",
       "      <td>0.10</td>\n",
       "      <td>5.98</td>\n",
       "      <td>0.521</td>\n",
       "      <td>Neutral</td>\n",
       "    </tr>\n",
       "    <tr>\n",
       "      <th>72342</th>\n",
       "      <td>Akola</td>\n",
       "      <td>Waranghushi</td>\n",
       "      <td>6.67</td>\n",
       "      <td>0.51</td>\n",
       "      <td>0.79</td>\n",
       "      <td>18.9</td>\n",
       "      <td>123.0</td>\n",
       "      <td>100.76</td>\n",
       "      <td>2.35</td>\n",
       "      <td>0.504</td>\n",
       "      <td>0.36</td>\n",
       "      <td>0.10</td>\n",
       "      <td>5.98</td>\n",
       "      <td>0.521</td>\n",
       "      <td>Neutral</td>\n",
       "    </tr>\n",
       "    <tr>\n",
       "      <th>72343</th>\n",
       "      <td>Akola</td>\n",
       "      <td>Waranghushi</td>\n",
       "      <td>6.67</td>\n",
       "      <td>0.51</td>\n",
       "      <td>0.79</td>\n",
       "      <td>18.9</td>\n",
       "      <td>123.0</td>\n",
       "      <td>100.76</td>\n",
       "      <td>2.35</td>\n",
       "      <td>0.504</td>\n",
       "      <td>0.36</td>\n",
       "      <td>0.10</td>\n",
       "      <td>5.98</td>\n",
       "      <td>0.521</td>\n",
       "      <td>Neutral</td>\n",
       "    </tr>\n",
       "    <tr>\n",
       "      <th>72344</th>\n",
       "      <td>Akola</td>\n",
       "      <td>Waranghushi</td>\n",
       "      <td>6.67</td>\n",
       "      <td>0.51</td>\n",
       "      <td>0.79</td>\n",
       "      <td>18.9</td>\n",
       "      <td>123.0</td>\n",
       "      <td>100.76</td>\n",
       "      <td>2.35</td>\n",
       "      <td>0.504</td>\n",
       "      <td>0.36</td>\n",
       "      <td>0.10</td>\n",
       "      <td>5.98</td>\n",
       "      <td>0.521</td>\n",
       "      <td>Neutral</td>\n",
       "    </tr>\n",
       "    <tr>\n",
       "      <th>72345</th>\n",
       "      <td>Akola</td>\n",
       "      <td>Waranghushi</td>\n",
       "      <td>6.67</td>\n",
       "      <td>0.51</td>\n",
       "      <td>0.79</td>\n",
       "      <td>18.9</td>\n",
       "      <td>123.0</td>\n",
       "      <td>100.76</td>\n",
       "      <td>2.35</td>\n",
       "      <td>0.504</td>\n",
       "      <td>0.36</td>\n",
       "      <td>0.10</td>\n",
       "      <td>5.98</td>\n",
       "      <td>0.521</td>\n",
       "      <td>Neutral</td>\n",
       "    </tr>\n",
       "  </tbody>\n",
       "</table>\n",
       "<p>382044 rows × 15 columns</p>\n",
       "</div>"
      ],
      "text/plain": [
       "      District      Village    pH    EC    OC      N      P       K      S  \\\n",
       "0      Shirala     Ambewadi  6.51  0.21  0.65  315.4   22.2  292.00  13.90   \n",
       "1      Shirala     Ambewadi  6.70  0.10  0.71  278.2   24.4  298.00  14.50   \n",
       "2      Shirala     Ambewadi  6.75  0.11  0.77  277.5   27.5  237.00  15.50   \n",
       "3      Shirala     Ambewadi  6.54  0.13  0.54  230.5   23.1  267.00   9.50   \n",
       "4      Shirala     Ambewadi  6.59  0.18  0.62  185.1   27.1  285.00  10.50   \n",
       "...        ...          ...   ...   ...   ...    ...    ...     ...    ...   \n",
       "72341    Akola  Waranghushi  6.67  0.51  0.79   18.9  123.0  100.76   2.35   \n",
       "72342    Akola  Waranghushi  6.67  0.51  0.79   18.9  123.0  100.76   2.35   \n",
       "72343    Akola  Waranghushi  6.67  0.51  0.79   18.9  123.0  100.76   2.35   \n",
       "72344    Akola  Waranghushi  6.67  0.51  0.79   18.9  123.0  100.76   2.35   \n",
       "72345    Akola  Waranghushi  6.67  0.51  0.79   18.9  123.0  100.76   2.35   \n",
       "\n",
       "          Zn    Fe    Cu    Mn      B Soil_type  \n",
       "0      0.920  4.60  0.78  7.55  0.990   Neutral  \n",
       "1      0.980  4.65  1.75  7.30  0.990   Neutral  \n",
       "2      0.900  4.92  1.85  6.60  0.770   Neutral  \n",
       "3      0.750  3.58  0.99  4.99  0.900   Neutral  \n",
       "4      0.860  3.99  1.10  4.90  0.880   Neutral  \n",
       "...      ...   ...   ...   ...    ...       ...  \n",
       "72341  0.504  0.36  0.10  5.98  0.521   Neutral  \n",
       "72342  0.504  0.36  0.10  5.98  0.521   Neutral  \n",
       "72343  0.504  0.36  0.10  5.98  0.521   Neutral  \n",
       "72344  0.504  0.36  0.10  5.98  0.521   Neutral  \n",
       "72345  0.504  0.36  0.10  5.98  0.521   Neutral  \n",
       "\n",
       "[382044 rows x 15 columns]"
      ]
     },
     "execution_count": 39,
     "metadata": {},
     "output_type": "execute_result"
    }
   ],
   "source": [
    "final_df"
   ]
  },
  {
   "cell_type": "markdown",
   "metadata": {},
   "source": [
    "#### New Soil Quality column is added on the basis of EC,OC,N,P,K,S,Zn,Fe,Cu,Mn and B."
   ]
  },
  {
   "cell_type": "code",
   "execution_count": 40,
   "metadata": {},
   "outputs": [
    {
     "data": {
      "text/html": [
       "<div>\n",
       "<style scoped>\n",
       "    .dataframe tbody tr th:only-of-type {\n",
       "        vertical-align: middle;\n",
       "    }\n",
       "\n",
       "    .dataframe tbody tr th {\n",
       "        vertical-align: top;\n",
       "    }\n",
       "\n",
       "    .dataframe thead th {\n",
       "        text-align: right;\n",
       "    }\n",
       "</style>\n",
       "<table border=\"1\" class=\"dataframe\">\n",
       "  <thead>\n",
       "    <tr style=\"text-align: right;\">\n",
       "      <th></th>\n",
       "      <th>District</th>\n",
       "      <th>Village</th>\n",
       "      <th>pH</th>\n",
       "      <th>EC</th>\n",
       "      <th>OC</th>\n",
       "      <th>N</th>\n",
       "      <th>P</th>\n",
       "      <th>K</th>\n",
       "      <th>S</th>\n",
       "      <th>Zn</th>\n",
       "      <th>Fe</th>\n",
       "      <th>Cu</th>\n",
       "      <th>Mn</th>\n",
       "      <th>B</th>\n",
       "      <th>Soil_type</th>\n",
       "      <th>Soil_Quality</th>\n",
       "    </tr>\n",
       "  </thead>\n",
       "  <tbody>\n",
       "    <tr>\n",
       "      <th>0</th>\n",
       "      <td>Shirala</td>\n",
       "      <td>Ambewadi</td>\n",
       "      <td>6.51</td>\n",
       "      <td>0.21</td>\n",
       "      <td>0.650</td>\n",
       "      <td>315.40</td>\n",
       "      <td>22.20</td>\n",
       "      <td>292.00</td>\n",
       "      <td>13.90</td>\n",
       "      <td>0.92</td>\n",
       "      <td>4.60</td>\n",
       "      <td>0.78</td>\n",
       "      <td>7.55</td>\n",
       "      <td>0.99</td>\n",
       "      <td>Neutral</td>\n",
       "      <td>Fertile Soil</td>\n",
       "    </tr>\n",
       "    <tr>\n",
       "      <th>1</th>\n",
       "      <td>Shirala</td>\n",
       "      <td>Ambewadi</td>\n",
       "      <td>6.70</td>\n",
       "      <td>0.10</td>\n",
       "      <td>0.710</td>\n",
       "      <td>278.20</td>\n",
       "      <td>24.40</td>\n",
       "      <td>298.00</td>\n",
       "      <td>14.50</td>\n",
       "      <td>0.98</td>\n",
       "      <td>4.65</td>\n",
       "      <td>1.75</td>\n",
       "      <td>7.30</td>\n",
       "      <td>0.99</td>\n",
       "      <td>Neutral</td>\n",
       "      <td>Fertile Soil</td>\n",
       "    </tr>\n",
       "    <tr>\n",
       "      <th>2</th>\n",
       "      <td>Shirala</td>\n",
       "      <td>Ambewadi</td>\n",
       "      <td>6.75</td>\n",
       "      <td>0.11</td>\n",
       "      <td>0.770</td>\n",
       "      <td>277.50</td>\n",
       "      <td>27.50</td>\n",
       "      <td>237.00</td>\n",
       "      <td>15.50</td>\n",
       "      <td>0.90</td>\n",
       "      <td>4.92</td>\n",
       "      <td>1.85</td>\n",
       "      <td>6.60</td>\n",
       "      <td>0.77</td>\n",
       "      <td>Neutral</td>\n",
       "      <td>Fertile Soil</td>\n",
       "    </tr>\n",
       "    <tr>\n",
       "      <th>3</th>\n",
       "      <td>Shirala</td>\n",
       "      <td>Ambewadi</td>\n",
       "      <td>6.54</td>\n",
       "      <td>0.13</td>\n",
       "      <td>0.540</td>\n",
       "      <td>230.50</td>\n",
       "      <td>23.10</td>\n",
       "      <td>267.00</td>\n",
       "      <td>9.50</td>\n",
       "      <td>0.75</td>\n",
       "      <td>3.58</td>\n",
       "      <td>0.99</td>\n",
       "      <td>4.99</td>\n",
       "      <td>0.90</td>\n",
       "      <td>Neutral</td>\n",
       "      <td>Fertile Soil</td>\n",
       "    </tr>\n",
       "    <tr>\n",
       "      <th>4</th>\n",
       "      <td>Shirala</td>\n",
       "      <td>Ambewadi</td>\n",
       "      <td>6.59</td>\n",
       "      <td>0.18</td>\n",
       "      <td>0.620</td>\n",
       "      <td>185.10</td>\n",
       "      <td>27.10</td>\n",
       "      <td>285.00</td>\n",
       "      <td>10.50</td>\n",
       "      <td>0.86</td>\n",
       "      <td>3.99</td>\n",
       "      <td>1.10</td>\n",
       "      <td>4.90</td>\n",
       "      <td>0.88</td>\n",
       "      <td>Neutral</td>\n",
       "      <td>Fertile Soil</td>\n",
       "    </tr>\n",
       "    <tr>\n",
       "      <th>...</th>\n",
       "      <td>...</td>\n",
       "      <td>...</td>\n",
       "      <td>...</td>\n",
       "      <td>...</td>\n",
       "      <td>...</td>\n",
       "      <td>...</td>\n",
       "      <td>...</td>\n",
       "      <td>...</td>\n",
       "      <td>...</td>\n",
       "      <td>...</td>\n",
       "      <td>...</td>\n",
       "      <td>...</td>\n",
       "      <td>...</td>\n",
       "      <td>...</td>\n",
       "      <td>...</td>\n",
       "      <td>...</td>\n",
       "    </tr>\n",
       "    <tr>\n",
       "      <th>69626</th>\n",
       "      <td>Akola</td>\n",
       "      <td>Vithe</td>\n",
       "      <td>7.12</td>\n",
       "      <td>0.48</td>\n",
       "      <td>0.555</td>\n",
       "      <td>225.79</td>\n",
       "      <td>21.12</td>\n",
       "      <td>493.22</td>\n",
       "      <td>20.16</td>\n",
       "      <td>0.65</td>\n",
       "      <td>4.06</td>\n",
       "      <td>2.75</td>\n",
       "      <td>4.08</td>\n",
       "      <td>0.38</td>\n",
       "      <td>Neutral</td>\n",
       "      <td>Fertile Soil</td>\n",
       "    </tr>\n",
       "    <tr>\n",
       "      <th>69637</th>\n",
       "      <td>Akola</td>\n",
       "      <td>Vithe</td>\n",
       "      <td>7.57</td>\n",
       "      <td>0.34</td>\n",
       "      <td>1.240</td>\n",
       "      <td>128.58</td>\n",
       "      <td>28.92</td>\n",
       "      <td>309.45</td>\n",
       "      <td>18.03</td>\n",
       "      <td>1.00</td>\n",
       "      <td>6.25</td>\n",
       "      <td>0.77</td>\n",
       "      <td>18.77</td>\n",
       "      <td>0.44</td>\n",
       "      <td>Neutral</td>\n",
       "      <td>Fertile Soil</td>\n",
       "    </tr>\n",
       "    <tr>\n",
       "      <th>69638</th>\n",
       "      <td>Akola</td>\n",
       "      <td>Vithe</td>\n",
       "      <td>7.57</td>\n",
       "      <td>0.34</td>\n",
       "      <td>1.240</td>\n",
       "      <td>128.58</td>\n",
       "      <td>28.92</td>\n",
       "      <td>309.45</td>\n",
       "      <td>18.03</td>\n",
       "      <td>1.00</td>\n",
       "      <td>6.25</td>\n",
       "      <td>0.77</td>\n",
       "      <td>18.77</td>\n",
       "      <td>0.44</td>\n",
       "      <td>Neutral</td>\n",
       "      <td>Fertile Soil</td>\n",
       "    </tr>\n",
       "    <tr>\n",
       "      <th>69639</th>\n",
       "      <td>Akola</td>\n",
       "      <td>Vithe</td>\n",
       "      <td>7.57</td>\n",
       "      <td>0.34</td>\n",
       "      <td>1.240</td>\n",
       "      <td>128.58</td>\n",
       "      <td>28.92</td>\n",
       "      <td>309.45</td>\n",
       "      <td>18.03</td>\n",
       "      <td>1.00</td>\n",
       "      <td>6.25</td>\n",
       "      <td>0.77</td>\n",
       "      <td>18.77</td>\n",
       "      <td>0.44</td>\n",
       "      <td>Neutral</td>\n",
       "      <td>Fertile Soil</td>\n",
       "    </tr>\n",
       "    <tr>\n",
       "      <th>69667</th>\n",
       "      <td>Akola</td>\n",
       "      <td>Vithe</td>\n",
       "      <td>7.51</td>\n",
       "      <td>0.75</td>\n",
       "      <td>1.240</td>\n",
       "      <td>225.79</td>\n",
       "      <td>30.87</td>\n",
       "      <td>492.17</td>\n",
       "      <td>18.70</td>\n",
       "      <td>0.33</td>\n",
       "      <td>3.30</td>\n",
       "      <td>3.00</td>\n",
       "      <td>8.61</td>\n",
       "      <td>0.49</td>\n",
       "      <td>Neutral</td>\n",
       "      <td>Fertile Soil</td>\n",
       "    </tr>\n",
       "  </tbody>\n",
       "</table>\n",
       "<p>85699 rows × 16 columns</p>\n",
       "</div>"
      ],
      "text/plain": [
       "      District   Village    pH    EC     OC       N      P       K      S  \\\n",
       "0      Shirala  Ambewadi  6.51  0.21  0.650  315.40  22.20  292.00  13.90   \n",
       "1      Shirala  Ambewadi  6.70  0.10  0.710  278.20  24.40  298.00  14.50   \n",
       "2      Shirala  Ambewadi  6.75  0.11  0.770  277.50  27.50  237.00  15.50   \n",
       "3      Shirala  Ambewadi  6.54  0.13  0.540  230.50  23.10  267.00   9.50   \n",
       "4      Shirala  Ambewadi  6.59  0.18  0.620  185.10  27.10  285.00  10.50   \n",
       "...        ...       ...   ...   ...    ...     ...    ...     ...    ...   \n",
       "69626    Akola     Vithe  7.12  0.48  0.555  225.79  21.12  493.22  20.16   \n",
       "69637    Akola     Vithe  7.57  0.34  1.240  128.58  28.92  309.45  18.03   \n",
       "69638    Akola     Vithe  7.57  0.34  1.240  128.58  28.92  309.45  18.03   \n",
       "69639    Akola     Vithe  7.57  0.34  1.240  128.58  28.92  309.45  18.03   \n",
       "69667    Akola     Vithe  7.51  0.75  1.240  225.79  30.87  492.17  18.70   \n",
       "\n",
       "         Zn    Fe    Cu     Mn     B Soil_type  Soil_Quality  \n",
       "0      0.92  4.60  0.78   7.55  0.99   Neutral  Fertile Soil  \n",
       "1      0.98  4.65  1.75   7.30  0.99   Neutral  Fertile Soil  \n",
       "2      0.90  4.92  1.85   6.60  0.77   Neutral  Fertile Soil  \n",
       "3      0.75  3.58  0.99   4.99  0.90   Neutral  Fertile Soil  \n",
       "4      0.86  3.99  1.10   4.90  0.88   Neutral  Fertile Soil  \n",
       "...     ...   ...   ...    ...   ...       ...           ...  \n",
       "69626  0.65  4.06  2.75   4.08  0.38   Neutral  Fertile Soil  \n",
       "69637  1.00  6.25  0.77  18.77  0.44   Neutral  Fertile Soil  \n",
       "69638  1.00  6.25  0.77  18.77  0.44   Neutral  Fertile Soil  \n",
       "69639  1.00  6.25  0.77  18.77  0.44   Neutral  Fertile Soil  \n",
       "69667  0.33  3.30  3.00   8.61  0.49   Neutral  Fertile Soil  \n",
       "\n",
       "[85699 rows x 16 columns]"
      ]
     },
     "execution_count": 40,
     "metadata": {},
     "output_type": "execute_result"
    }
   ],
   "source": [
    "final_df['Soil_Quality']='Unfertile Soil'\n",
    "final_df.Soil_Quality[((final_df.N >=100) & (final_df.N <=560)) & ((final_df.P >=10) & (final_df.P <=100)) &\n",
    "                      ((final_df.K >=100) & (final_df.K <=580)) & ((final_df.S >= 5) & (final_df.S <= 50)) &\n",
    "                      ((final_df.Zn >= 0.2) & (final_df.Zn <= 5)) & ((final_df.Fe >= 2.2) & (final_df.Fe <= 20)) \n",
    "                      & ((final_df.Cu >= 0.2) & (final_df.Cu <= 5)) & ((final_df.Mn >= 2) & (final_df.Mn <= 40))\n",
    "                      & ((final_df.Fe >= 2.2) & (final_df.Fe <= 20)) & ((final_df.B >= 0.2) & (final_df.B <= 5))\n",
    "                      &((final_df.OC>=0.2)&(final_df.OC<=2))&(final_df.EC<3)]='Fertile Soil'\n",
    "\n",
    "final_df[(final_df.Soil_Quality =='Fertile Soil')]"
   ]
  },
  {
   "cell_type": "code",
   "execution_count": 41,
   "metadata": {},
   "outputs": [],
   "source": [
    "final_df.to_csv(\"SoilData.csv\",index=False)"
   ]
  },
  {
   "cell_type": "markdown",
   "metadata": {},
   "source": [
    "#### New Crop column is added on the basis of nuterients ranges(NPK) of different crops and district wise crop produced."
   ]
  },
  {
   "cell_type": "code",
   "execution_count": 42,
   "metadata": {},
   "outputs": [],
   "source": [
    "soil=final_df\n",
    "soil['Crop']='No Crop'"
   ]
  },
  {
   "cell_type": "code",
   "execution_count": 43,
   "metadata": {},
   "outputs": [],
   "source": [
    "#Cotton\n",
    "soil.Crop[((soil.N>=100) & (soil.K>=120)  & (soil.P>=20)) & ((soil.District =='Akola')|(soil.District =='Jamner')|\n",
    "        (soil.District =='Dhule')|(soil.District =='Malegaon')|(soil.District =='Nashik')|(soil.District =='Junnar')\n",
    "        |(soil.District =='Bhusawal')|(soil.District =='Jalgaon')|(soil.District =='Nagpur (Rural)'))]='Cotton'\n",
    "\n",
    "#Soybean\n",
    "soil.Crop[((soil.N>=120)  & (soil.K>=100) & (soil.P>=15)) &((soil.District =='Buldana')|(soil.District =='Washim')\n",
    "            |(soil.District =='Nanded')|(soil.District =='Yavatmal'))]='Soybean'\n",
    "\n",
    "#Sugarcane\n",
    "soil.Crop[((soil.N>=100) & (soil.K>=150) & (soil.P>=30))&\n",
    "         ((soil.District =='Koregaon')|(soil.District =='Karad')|(soil.District =='Karvir')\n",
    "            |(soil.District =='Kagal'))]='Sugarcane'\n",
    "\n",
    "#GroundNut\n",
    "soil.Crop[((soil.N>=170) & (soil.K>=100)  & (soil.P>=30)) & ((soil.District =='Shirala'))]='GroundNut'\n",
    "\n",
    "\n",
    "#Wheat\n",
    "soil.Crop[((soil['N']>=128)  & (soil['K']>=180)  & (soil['P']>=45)) & (soil.District =='Nashik')|\n",
    "          (soil.District=='Bhusawal')]='Wheat' \n"
   ]
  },
  {
   "cell_type": "markdown",
   "metadata": {},
   "source": [
    "## Balancing the Dataset on the basis of crop column "
   ]
  },
  {
   "cell_type": "code",
   "execution_count": 44,
   "metadata": {},
   "outputs": [
    {
     "data": {
      "text/plain": [
       "(143448, 17)"
      ]
     },
     "execution_count": 44,
     "metadata": {},
     "output_type": "execute_result"
    }
   ],
   "source": [
    "a=soil[soil.Crop != 'No Crop'] #38% data\n",
    "a.shape"
   ]
  },
  {
   "cell_type": "code",
   "execution_count": 45,
   "metadata": {},
   "outputs": [
    {
     "data": {
      "text/plain": [
       "28689.6"
      ]
     },
     "execution_count": 45,
     "metadata": {},
     "output_type": "execute_result"
    }
   ],
   "source": [
    "a.Crop.value_counts().mean()"
   ]
  },
  {
   "cell_type": "code",
   "execution_count": 46,
   "metadata": {},
   "outputs": [
    {
     "data": {
      "text/plain": [
       "(28632, 17)"
      ]
     },
     "execution_count": 46,
     "metadata": {},
     "output_type": "execute_result"
    }
   ],
   "source": [
    "b=soil[soil.Crop == 'No Crop' ] #62% data\n",
    "b=b.sample(frac=0.12,random_state=2021)\n",
    "\n",
    "b.shape"
   ]
  },
  {
   "cell_type": "code",
   "execution_count": 47,
   "metadata": {},
   "outputs": [
    {
     "data": {
      "text/html": [
       "<div>\n",
       "<style scoped>\n",
       "    .dataframe tbody tr th:only-of-type {\n",
       "        vertical-align: middle;\n",
       "    }\n",
       "\n",
       "    .dataframe tbody tr th {\n",
       "        vertical-align: top;\n",
       "    }\n",
       "\n",
       "    .dataframe thead th {\n",
       "        text-align: right;\n",
       "    }\n",
       "</style>\n",
       "<table border=\"1\" class=\"dataframe\">\n",
       "  <thead>\n",
       "    <tr style=\"text-align: right;\">\n",
       "      <th></th>\n",
       "      <th>District</th>\n",
       "      <th>Village</th>\n",
       "      <th>pH</th>\n",
       "      <th>EC</th>\n",
       "      <th>OC</th>\n",
       "      <th>N</th>\n",
       "      <th>P</th>\n",
       "      <th>K</th>\n",
       "      <th>S</th>\n",
       "      <th>Zn</th>\n",
       "      <th>Fe</th>\n",
       "      <th>Cu</th>\n",
       "      <th>Mn</th>\n",
       "      <th>B</th>\n",
       "      <th>Soil_type</th>\n",
       "      <th>Soil_Quality</th>\n",
       "      <th>Crop</th>\n",
       "    </tr>\n",
       "  </thead>\n",
       "  <tbody>\n",
       "    <tr>\n",
       "      <th>347</th>\n",
       "      <td>Shirala</td>\n",
       "      <td>Ambewadi</td>\n",
       "      <td>6.70</td>\n",
       "      <td>0.240</td>\n",
       "      <td>0.67</td>\n",
       "      <td>262.4</td>\n",
       "      <td>30.00</td>\n",
       "      <td>224.40</td>\n",
       "      <td>10.90</td>\n",
       "      <td>0.74</td>\n",
       "      <td>5.60</td>\n",
       "      <td>1.77</td>\n",
       "      <td>5.51</td>\n",
       "      <td>0.77</td>\n",
       "      <td>Neutral</td>\n",
       "      <td>Fertile Soil</td>\n",
       "      <td>GroundNut</td>\n",
       "    </tr>\n",
       "    <tr>\n",
       "      <th>348</th>\n",
       "      <td>Shirala</td>\n",
       "      <td>Ambewadi</td>\n",
       "      <td>6.70</td>\n",
       "      <td>0.240</td>\n",
       "      <td>0.67</td>\n",
       "      <td>262.4</td>\n",
       "      <td>30.00</td>\n",
       "      <td>224.40</td>\n",
       "      <td>10.90</td>\n",
       "      <td>0.74</td>\n",
       "      <td>5.60</td>\n",
       "      <td>1.77</td>\n",
       "      <td>5.51</td>\n",
       "      <td>0.77</td>\n",
       "      <td>Neutral</td>\n",
       "      <td>Fertile Soil</td>\n",
       "      <td>GroundNut</td>\n",
       "    </tr>\n",
       "    <tr>\n",
       "      <th>349</th>\n",
       "      <td>Shirala</td>\n",
       "      <td>Ambewadi</td>\n",
       "      <td>6.70</td>\n",
       "      <td>0.240</td>\n",
       "      <td>0.67</td>\n",
       "      <td>262.4</td>\n",
       "      <td>30.00</td>\n",
       "      <td>224.40</td>\n",
       "      <td>10.90</td>\n",
       "      <td>0.74</td>\n",
       "      <td>5.60</td>\n",
       "      <td>1.77</td>\n",
       "      <td>5.51</td>\n",
       "      <td>0.77</td>\n",
       "      <td>Neutral</td>\n",
       "      <td>Fertile Soil</td>\n",
       "      <td>GroundNut</td>\n",
       "    </tr>\n",
       "    <tr>\n",
       "      <th>350</th>\n",
       "      <td>Shirala</td>\n",
       "      <td>Ambewadi</td>\n",
       "      <td>6.70</td>\n",
       "      <td>0.240</td>\n",
       "      <td>0.67</td>\n",
       "      <td>262.4</td>\n",
       "      <td>30.00</td>\n",
       "      <td>224.40</td>\n",
       "      <td>10.90</td>\n",
       "      <td>0.74</td>\n",
       "      <td>5.60</td>\n",
       "      <td>1.77</td>\n",
       "      <td>5.51</td>\n",
       "      <td>0.77</td>\n",
       "      <td>Neutral</td>\n",
       "      <td>Fertile Soil</td>\n",
       "      <td>GroundNut</td>\n",
       "    </tr>\n",
       "    <tr>\n",
       "      <th>351</th>\n",
       "      <td>Shirala</td>\n",
       "      <td>Ambewadi</td>\n",
       "      <td>6.70</td>\n",
       "      <td>0.240</td>\n",
       "      <td>0.67</td>\n",
       "      <td>262.4</td>\n",
       "      <td>30.00</td>\n",
       "      <td>224.40</td>\n",
       "      <td>10.90</td>\n",
       "      <td>0.74</td>\n",
       "      <td>5.60</td>\n",
       "      <td>1.77</td>\n",
       "      <td>5.51</td>\n",
       "      <td>0.77</td>\n",
       "      <td>Neutral</td>\n",
       "      <td>Fertile Soil</td>\n",
       "      <td>GroundNut</td>\n",
       "    </tr>\n",
       "    <tr>\n",
       "      <th>...</th>\n",
       "      <td>...</td>\n",
       "      <td>...</td>\n",
       "      <td>...</td>\n",
       "      <td>...</td>\n",
       "      <td>...</td>\n",
       "      <td>...</td>\n",
       "      <td>...</td>\n",
       "      <td>...</td>\n",
       "      <td>...</td>\n",
       "      <td>...</td>\n",
       "      <td>...</td>\n",
       "      <td>...</td>\n",
       "      <td>...</td>\n",
       "      <td>...</td>\n",
       "      <td>...</td>\n",
       "      <td>...</td>\n",
       "      <td>...</td>\n",
       "    </tr>\n",
       "    <tr>\n",
       "      <th>8631</th>\n",
       "      <td>Khamgaon</td>\n",
       "      <td>Chikhali Bk.</td>\n",
       "      <td>8.48</td>\n",
       "      <td>0.290</td>\n",
       "      <td>0.35</td>\n",
       "      <td>205.0</td>\n",
       "      <td>8.71</td>\n",
       "      <td>532.00</td>\n",
       "      <td>11.55</td>\n",
       "      <td>0.41</td>\n",
       "      <td>3.49</td>\n",
       "      <td>0.58</td>\n",
       "      <td>15.38</td>\n",
       "      <td>0.73</td>\n",
       "      <td>Slighty alkaline</td>\n",
       "      <td>Unfertile Soil</td>\n",
       "      <td>No Crop</td>\n",
       "    </tr>\n",
       "    <tr>\n",
       "      <th>41213</th>\n",
       "      <td>Khamgaon</td>\n",
       "      <td>Pimpri  Gawli</td>\n",
       "      <td>7.17</td>\n",
       "      <td>0.150</td>\n",
       "      <td>0.42</td>\n",
       "      <td>176.0</td>\n",
       "      <td>140.00</td>\n",
       "      <td>372.00</td>\n",
       "      <td>12.00</td>\n",
       "      <td>0.93</td>\n",
       "      <td>8.25</td>\n",
       "      <td>2.90</td>\n",
       "      <td>13.56</td>\n",
       "      <td>0.99</td>\n",
       "      <td>Neutral</td>\n",
       "      <td>Unfertile Soil</td>\n",
       "      <td>No Crop</td>\n",
       "    </tr>\n",
       "    <tr>\n",
       "      <th>16562</th>\n",
       "      <td>Dhule</td>\n",
       "      <td>Hendrun</td>\n",
       "      <td>7.80</td>\n",
       "      <td>0.611</td>\n",
       "      <td>0.24</td>\n",
       "      <td>250.0</td>\n",
       "      <td>9.14</td>\n",
       "      <td>388.00</td>\n",
       "      <td>20.46</td>\n",
       "      <td>0.65</td>\n",
       "      <td>5.53</td>\n",
       "      <td>2.96</td>\n",
       "      <td>13.40</td>\n",
       "      <td>1.16</td>\n",
       "      <td>Neutral</td>\n",
       "      <td>Unfertile Soil</td>\n",
       "      <td>No Crop</td>\n",
       "    </tr>\n",
       "    <tr>\n",
       "      <th>32382</th>\n",
       "      <td>Shirala</td>\n",
       "      <td>Shirala</td>\n",
       "      <td>7.76</td>\n",
       "      <td>0.130</td>\n",
       "      <td>0.57</td>\n",
       "      <td>225.7</td>\n",
       "      <td>27.70</td>\n",
       "      <td>324.80</td>\n",
       "      <td>14.70</td>\n",
       "      <td>0.35</td>\n",
       "      <td>3.70</td>\n",
       "      <td>1.47</td>\n",
       "      <td>5.57</td>\n",
       "      <td>0.44</td>\n",
       "      <td>Neutral</td>\n",
       "      <td>Fertile Soil</td>\n",
       "      <td>No Crop</td>\n",
       "    </tr>\n",
       "    <tr>\n",
       "      <th>20068</th>\n",
       "      <td>Buldana</td>\n",
       "      <td>Irala</td>\n",
       "      <td>7.70</td>\n",
       "      <td>0.120</td>\n",
       "      <td>0.51</td>\n",
       "      <td>237.2</td>\n",
       "      <td>9.61</td>\n",
       "      <td>245.24</td>\n",
       "      <td>5.33</td>\n",
       "      <td>0.45</td>\n",
       "      <td>5.29</td>\n",
       "      <td>0.49</td>\n",
       "      <td>2.74</td>\n",
       "      <td>0.57</td>\n",
       "      <td>Neutral</td>\n",
       "      <td>Unfertile Soil</td>\n",
       "      <td>No Crop</td>\n",
       "    </tr>\n",
       "  </tbody>\n",
       "</table>\n",
       "<p>172080 rows × 17 columns</p>\n",
       "</div>"
      ],
      "text/plain": [
       "       District        Village    pH     EC    OC      N       P       K  \\\n",
       "347     Shirala       Ambewadi  6.70  0.240  0.67  262.4   30.00  224.40   \n",
       "348     Shirala       Ambewadi  6.70  0.240  0.67  262.4   30.00  224.40   \n",
       "349     Shirala       Ambewadi  6.70  0.240  0.67  262.4   30.00  224.40   \n",
       "350     Shirala       Ambewadi  6.70  0.240  0.67  262.4   30.00  224.40   \n",
       "351     Shirala       Ambewadi  6.70  0.240  0.67  262.4   30.00  224.40   \n",
       "...         ...            ...   ...    ...   ...    ...     ...     ...   \n",
       "8631   Khamgaon   Chikhali Bk.  8.48  0.290  0.35  205.0    8.71  532.00   \n",
       "41213  Khamgaon  Pimpri  Gawli  7.17  0.150  0.42  176.0  140.00  372.00   \n",
       "16562     Dhule        Hendrun  7.80  0.611  0.24  250.0    9.14  388.00   \n",
       "32382   Shirala        Shirala  7.76  0.130  0.57  225.7   27.70  324.80   \n",
       "20068   Buldana          Irala  7.70  0.120  0.51  237.2    9.61  245.24   \n",
       "\n",
       "           S    Zn    Fe    Cu     Mn     B         Soil_type    Soil_Quality  \\\n",
       "347    10.90  0.74  5.60  1.77   5.51  0.77           Neutral    Fertile Soil   \n",
       "348    10.90  0.74  5.60  1.77   5.51  0.77           Neutral    Fertile Soil   \n",
       "349    10.90  0.74  5.60  1.77   5.51  0.77           Neutral    Fertile Soil   \n",
       "350    10.90  0.74  5.60  1.77   5.51  0.77           Neutral    Fertile Soil   \n",
       "351    10.90  0.74  5.60  1.77   5.51  0.77           Neutral    Fertile Soil   \n",
       "...      ...   ...   ...   ...    ...   ...               ...             ...   \n",
       "8631   11.55  0.41  3.49  0.58  15.38  0.73  Slighty alkaline  Unfertile Soil   \n",
       "41213  12.00  0.93  8.25  2.90  13.56  0.99           Neutral  Unfertile Soil   \n",
       "16562  20.46  0.65  5.53  2.96  13.40  1.16           Neutral  Unfertile Soil   \n",
       "32382  14.70  0.35  3.70  1.47   5.57  0.44           Neutral    Fertile Soil   \n",
       "20068   5.33  0.45  5.29  0.49   2.74  0.57           Neutral  Unfertile Soil   \n",
       "\n",
       "            Crop  \n",
       "347    GroundNut  \n",
       "348    GroundNut  \n",
       "349    GroundNut  \n",
       "350    GroundNut  \n",
       "351    GroundNut  \n",
       "...          ...  \n",
       "8631     No Crop  \n",
       "41213    No Crop  \n",
       "16562    No Crop  \n",
       "32382    No Crop  \n",
       "20068    No Crop  \n",
       "\n",
       "[172080 rows x 17 columns]"
      ]
     },
     "execution_count": 47,
     "metadata": {},
     "output_type": "execute_result"
    }
   ],
   "source": [
    "Final_crop=pd.concat([a,b])\n",
    "Final_crop"
   ]
  },
  {
   "cell_type": "markdown",
   "metadata": {},
   "source": [
    "### Storing the DataFrames in csv format for ML model Building "
   ]
  },
  {
   "cell_type": "code",
   "execution_count": 48,
   "metadata": {},
   "outputs": [],
   "source": [
    "Final_crop.to_csv(\"CropData.csv\",index=False)"
   ]
  }
 ],
 "metadata": {
  "kernelspec": {
   "display_name": "Python 3",
   "language": "python",
   "name": "python3"
  },
  "language_info": {
   "codemirror_mode": {
    "name": "ipython",
    "version": 3
   },
   "file_extension": ".py",
   "mimetype": "text/x-python",
   "name": "python",
   "nbconvert_exporter": "python",
   "pygments_lexer": "ipython3",
   "version": "3.8.3"
  }
 },
 "nbformat": 4,
 "nbformat_minor": 4
}
