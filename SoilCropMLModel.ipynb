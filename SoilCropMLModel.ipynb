{
 "cells": [
  {
   "cell_type": "code",
   "execution_count": 1,
   "metadata": {},
   "outputs": [],
   "source": [
    "import pandas as pd\n",
    "import numpy as np\n",
    "import warnings\n",
    "warnings.filterwarnings('ignore')"
   ]
  },
  {
   "cell_type": "code",
   "execution_count": 2,
   "metadata": {},
   "outputs": [
    {
     "data": {
      "text/html": [
       "<div>\n",
       "<style scoped>\n",
       "    .dataframe tbody tr th:only-of-type {\n",
       "        vertical-align: middle;\n",
       "    }\n",
       "\n",
       "    .dataframe tbody tr th {\n",
       "        vertical-align: top;\n",
       "    }\n",
       "\n",
       "    .dataframe thead th {\n",
       "        text-align: right;\n",
       "    }\n",
       "</style>\n",
       "<table border=\"1\" class=\"dataframe\">\n",
       "  <thead>\n",
       "    <tr style=\"text-align: right;\">\n",
       "      <th></th>\n",
       "      <th>District</th>\n",
       "      <th>Village</th>\n",
       "      <th>pH</th>\n",
       "      <th>EC</th>\n",
       "      <th>OC</th>\n",
       "      <th>N</th>\n",
       "      <th>P</th>\n",
       "      <th>K</th>\n",
       "      <th>S</th>\n",
       "      <th>Zn</th>\n",
       "      <th>Fe</th>\n",
       "      <th>Cu</th>\n",
       "      <th>Mn</th>\n",
       "      <th>B</th>\n",
       "      <th>Soil_type</th>\n",
       "      <th>Soil_Quality</th>\n",
       "      <th>Crop</th>\n",
       "    </tr>\n",
       "  </thead>\n",
       "  <tbody>\n",
       "    <tr>\n",
       "      <th>0</th>\n",
       "      <td>Shirala</td>\n",
       "      <td>Ambewadi</td>\n",
       "      <td>6.70</td>\n",
       "      <td>0.240</td>\n",
       "      <td>0.67</td>\n",
       "      <td>262.4</td>\n",
       "      <td>30.00</td>\n",
       "      <td>224.40</td>\n",
       "      <td>10.90</td>\n",
       "      <td>0.74</td>\n",
       "      <td>5.60</td>\n",
       "      <td>1.77</td>\n",
       "      <td>5.51</td>\n",
       "      <td>0.77</td>\n",
       "      <td>Neutral</td>\n",
       "      <td>Fertile Soil</td>\n",
       "      <td>GroundNut</td>\n",
       "    </tr>\n",
       "    <tr>\n",
       "      <th>1</th>\n",
       "      <td>Shirala</td>\n",
       "      <td>Ambewadi</td>\n",
       "      <td>6.70</td>\n",
       "      <td>0.240</td>\n",
       "      <td>0.67</td>\n",
       "      <td>262.4</td>\n",
       "      <td>30.00</td>\n",
       "      <td>224.40</td>\n",
       "      <td>10.90</td>\n",
       "      <td>0.74</td>\n",
       "      <td>5.60</td>\n",
       "      <td>1.77</td>\n",
       "      <td>5.51</td>\n",
       "      <td>0.77</td>\n",
       "      <td>Neutral</td>\n",
       "      <td>Fertile Soil</td>\n",
       "      <td>GroundNut</td>\n",
       "    </tr>\n",
       "    <tr>\n",
       "      <th>2</th>\n",
       "      <td>Shirala</td>\n",
       "      <td>Ambewadi</td>\n",
       "      <td>6.70</td>\n",
       "      <td>0.240</td>\n",
       "      <td>0.67</td>\n",
       "      <td>262.4</td>\n",
       "      <td>30.00</td>\n",
       "      <td>224.40</td>\n",
       "      <td>10.90</td>\n",
       "      <td>0.74</td>\n",
       "      <td>5.60</td>\n",
       "      <td>1.77</td>\n",
       "      <td>5.51</td>\n",
       "      <td>0.77</td>\n",
       "      <td>Neutral</td>\n",
       "      <td>Fertile Soil</td>\n",
       "      <td>GroundNut</td>\n",
       "    </tr>\n",
       "    <tr>\n",
       "      <th>3</th>\n",
       "      <td>Shirala</td>\n",
       "      <td>Ambewadi</td>\n",
       "      <td>6.70</td>\n",
       "      <td>0.240</td>\n",
       "      <td>0.67</td>\n",
       "      <td>262.4</td>\n",
       "      <td>30.00</td>\n",
       "      <td>224.40</td>\n",
       "      <td>10.90</td>\n",
       "      <td>0.74</td>\n",
       "      <td>5.60</td>\n",
       "      <td>1.77</td>\n",
       "      <td>5.51</td>\n",
       "      <td>0.77</td>\n",
       "      <td>Neutral</td>\n",
       "      <td>Fertile Soil</td>\n",
       "      <td>GroundNut</td>\n",
       "    </tr>\n",
       "    <tr>\n",
       "      <th>4</th>\n",
       "      <td>Shirala</td>\n",
       "      <td>Ambewadi</td>\n",
       "      <td>6.70</td>\n",
       "      <td>0.240</td>\n",
       "      <td>0.67</td>\n",
       "      <td>262.4</td>\n",
       "      <td>30.00</td>\n",
       "      <td>224.40</td>\n",
       "      <td>10.90</td>\n",
       "      <td>0.74</td>\n",
       "      <td>5.60</td>\n",
       "      <td>1.77</td>\n",
       "      <td>5.51</td>\n",
       "      <td>0.77</td>\n",
       "      <td>Neutral</td>\n",
       "      <td>Fertile Soil</td>\n",
       "      <td>GroundNut</td>\n",
       "    </tr>\n",
       "    <tr>\n",
       "      <th>...</th>\n",
       "      <td>...</td>\n",
       "      <td>...</td>\n",
       "      <td>...</td>\n",
       "      <td>...</td>\n",
       "      <td>...</td>\n",
       "      <td>...</td>\n",
       "      <td>...</td>\n",
       "      <td>...</td>\n",
       "      <td>...</td>\n",
       "      <td>...</td>\n",
       "      <td>...</td>\n",
       "      <td>...</td>\n",
       "      <td>...</td>\n",
       "      <td>...</td>\n",
       "      <td>...</td>\n",
       "      <td>...</td>\n",
       "      <td>...</td>\n",
       "    </tr>\n",
       "    <tr>\n",
       "      <th>172075</th>\n",
       "      <td>Khamgaon</td>\n",
       "      <td>Chikhali Bk.</td>\n",
       "      <td>8.48</td>\n",
       "      <td>0.290</td>\n",
       "      <td>0.35</td>\n",
       "      <td>205.0</td>\n",
       "      <td>8.71</td>\n",
       "      <td>532.00</td>\n",
       "      <td>11.55</td>\n",
       "      <td>0.41</td>\n",
       "      <td>3.49</td>\n",
       "      <td>0.58</td>\n",
       "      <td>15.38</td>\n",
       "      <td>0.73</td>\n",
       "      <td>Slighty alkaline</td>\n",
       "      <td>Unfertile Soil</td>\n",
       "      <td>No Crop</td>\n",
       "    </tr>\n",
       "    <tr>\n",
       "      <th>172076</th>\n",
       "      <td>Khamgaon</td>\n",
       "      <td>Pimpri  Gawli</td>\n",
       "      <td>7.17</td>\n",
       "      <td>0.150</td>\n",
       "      <td>0.42</td>\n",
       "      <td>176.0</td>\n",
       "      <td>140.00</td>\n",
       "      <td>372.00</td>\n",
       "      <td>12.00</td>\n",
       "      <td>0.93</td>\n",
       "      <td>8.25</td>\n",
       "      <td>2.90</td>\n",
       "      <td>13.56</td>\n",
       "      <td>0.99</td>\n",
       "      <td>Neutral</td>\n",
       "      <td>Unfertile Soil</td>\n",
       "      <td>No Crop</td>\n",
       "    </tr>\n",
       "    <tr>\n",
       "      <th>172077</th>\n",
       "      <td>Dhule</td>\n",
       "      <td>Hendrun</td>\n",
       "      <td>7.80</td>\n",
       "      <td>0.611</td>\n",
       "      <td>0.24</td>\n",
       "      <td>250.0</td>\n",
       "      <td>9.14</td>\n",
       "      <td>388.00</td>\n",
       "      <td>20.46</td>\n",
       "      <td>0.65</td>\n",
       "      <td>5.53</td>\n",
       "      <td>2.96</td>\n",
       "      <td>13.40</td>\n",
       "      <td>1.16</td>\n",
       "      <td>Neutral</td>\n",
       "      <td>Unfertile Soil</td>\n",
       "      <td>No Crop</td>\n",
       "    </tr>\n",
       "    <tr>\n",
       "      <th>172078</th>\n",
       "      <td>Shirala</td>\n",
       "      <td>Shirala</td>\n",
       "      <td>7.76</td>\n",
       "      <td>0.130</td>\n",
       "      <td>0.57</td>\n",
       "      <td>225.7</td>\n",
       "      <td>27.70</td>\n",
       "      <td>324.80</td>\n",
       "      <td>14.70</td>\n",
       "      <td>0.35</td>\n",
       "      <td>3.70</td>\n",
       "      <td>1.47</td>\n",
       "      <td>5.57</td>\n",
       "      <td>0.44</td>\n",
       "      <td>Neutral</td>\n",
       "      <td>Fertile Soil</td>\n",
       "      <td>No Crop</td>\n",
       "    </tr>\n",
       "    <tr>\n",
       "      <th>172079</th>\n",
       "      <td>Buldana</td>\n",
       "      <td>Irala</td>\n",
       "      <td>7.70</td>\n",
       "      <td>0.120</td>\n",
       "      <td>0.51</td>\n",
       "      <td>237.2</td>\n",
       "      <td>9.61</td>\n",
       "      <td>245.24</td>\n",
       "      <td>5.33</td>\n",
       "      <td>0.45</td>\n",
       "      <td>5.29</td>\n",
       "      <td>0.49</td>\n",
       "      <td>2.74</td>\n",
       "      <td>0.57</td>\n",
       "      <td>Neutral</td>\n",
       "      <td>Unfertile Soil</td>\n",
       "      <td>No Crop</td>\n",
       "    </tr>\n",
       "  </tbody>\n",
       "</table>\n",
       "<p>172080 rows × 17 columns</p>\n",
       "</div>"
      ],
      "text/plain": [
       "        District        Village    pH     EC    OC      N       P       K  \\\n",
       "0        Shirala       Ambewadi  6.70  0.240  0.67  262.4   30.00  224.40   \n",
       "1        Shirala       Ambewadi  6.70  0.240  0.67  262.4   30.00  224.40   \n",
       "2        Shirala       Ambewadi  6.70  0.240  0.67  262.4   30.00  224.40   \n",
       "3        Shirala       Ambewadi  6.70  0.240  0.67  262.4   30.00  224.40   \n",
       "4        Shirala       Ambewadi  6.70  0.240  0.67  262.4   30.00  224.40   \n",
       "...          ...            ...   ...    ...   ...    ...     ...     ...   \n",
       "172075  Khamgaon   Chikhali Bk.  8.48  0.290  0.35  205.0    8.71  532.00   \n",
       "172076  Khamgaon  Pimpri  Gawli  7.17  0.150  0.42  176.0  140.00  372.00   \n",
       "172077     Dhule        Hendrun  7.80  0.611  0.24  250.0    9.14  388.00   \n",
       "172078   Shirala        Shirala  7.76  0.130  0.57  225.7   27.70  324.80   \n",
       "172079   Buldana          Irala  7.70  0.120  0.51  237.2    9.61  245.24   \n",
       "\n",
       "            S    Zn    Fe    Cu     Mn     B         Soil_type  \\\n",
       "0       10.90  0.74  5.60  1.77   5.51  0.77           Neutral   \n",
       "1       10.90  0.74  5.60  1.77   5.51  0.77           Neutral   \n",
       "2       10.90  0.74  5.60  1.77   5.51  0.77           Neutral   \n",
       "3       10.90  0.74  5.60  1.77   5.51  0.77           Neutral   \n",
       "4       10.90  0.74  5.60  1.77   5.51  0.77           Neutral   \n",
       "...       ...   ...   ...   ...    ...   ...               ...   \n",
       "172075  11.55  0.41  3.49  0.58  15.38  0.73  Slighty alkaline   \n",
       "172076  12.00  0.93  8.25  2.90  13.56  0.99           Neutral   \n",
       "172077  20.46  0.65  5.53  2.96  13.40  1.16           Neutral   \n",
       "172078  14.70  0.35  3.70  1.47   5.57  0.44           Neutral   \n",
       "172079   5.33  0.45  5.29  0.49   2.74  0.57           Neutral   \n",
       "\n",
       "          Soil_Quality       Crop  \n",
       "0         Fertile Soil  GroundNut  \n",
       "1         Fertile Soil  GroundNut  \n",
       "2         Fertile Soil  GroundNut  \n",
       "3         Fertile Soil  GroundNut  \n",
       "4         Fertile Soil  GroundNut  \n",
       "...                ...        ...  \n",
       "172075  Unfertile Soil    No Crop  \n",
       "172076  Unfertile Soil    No Crop  \n",
       "172077  Unfertile Soil    No Crop  \n",
       "172078    Fertile Soil    No Crop  \n",
       "172079  Unfertile Soil    No Crop  \n",
       "\n",
       "[172080 rows x 17 columns]"
      ]
     },
     "execution_count": 2,
     "metadata": {},
     "output_type": "execute_result"
    }
   ],
   "source": [
    "data = pd.read_csv(\"CropData.csv\")\n",
    "data"
   ]
  },
  {
   "cell_type": "markdown",
   "metadata": {},
   "source": [
    "### Data Before Balancing"
   ]
  },
  {
   "cell_type": "code",
   "execution_count": 3,
   "metadata": {},
   "outputs": [
    {
     "data": {
      "text/plain": [
       "<matplotlib.axes._subplots.AxesSubplot at 0xebda0f0610>"
      ]
     },
     "execution_count": 3,
     "metadata": {},
     "output_type": "execute_result"
    },
    {
     "data": {
      "image/png": "[encoded data removed]",
      "text/plain": [
       "<Figure size 432x288 with 1 Axes>"
      ]
     },
     "metadata": {
      "needs_background": "light"
     },
     "output_type": "display_data"
    }
   ],
   "source": [
    "import matplotlib.pyplot as plt\n",
    "import seaborn as sns\n",
    "sns.countplot(y='Crop',data=data)"
   ]
  },
  {
   "cell_type": "code",
   "execution_count": 4,
   "metadata": {},
   "outputs": [
    {
     "name": "stdout",
     "output_type": "stream",
     "text": [
      "('GroundNut', 5416, 3.1473733147373313)\n",
      "('Cotton', 86306, 50.15457926545792)\n",
      "('Wheat', 2606, 1.51441190144119)\n",
      "('Soybean', 34398, 19.989539748953973)\n",
      "('Sugarcane', 14722, 8.55532310553231)\n",
      "('No Crop', 28632, 16.638772663877266)\n"
     ]
    }
   ],
   "source": [
    "from collections import Counter\n",
    "counter=Counter(data['Crop'])\n",
    "for k,v in counter.items():\n",
    "    per = v / len(data['Crop']) * 100\n",
    "    print((k, v, per))"
   ]
  },
  {
   "cell_type": "markdown",
   "metadata": {},
   "source": [
    "### Balancing of data to avoid over-fitting of model"
   ]
  },
  {
   "cell_type": "code",
   "execution_count": 5,
   "metadata": {},
   "outputs": [
    {
     "data": {
      "text/plain": [
       "((2848, 17), (2650, 17), (2649, 17), (2654, 17), (2720, 17), (2606, 17))"
      ]
     },
     "execution_count": 5,
     "metadata": {},
     "output_type": "execute_result"
    }
   ],
   "source": [
    "df1=data.copy() \n",
    "s=df1[df1.Crop == 'Sugarcane' ] \n",
    "s=s.sample(frac=0.18,random_state=2021)\n",
    "c=df1[df1.Crop == 'Cotton' ] \n",
    "c=c.sample(frac=0.033,random_state=2021)\n",
    "g=df1[df1.Crop == 'GroundNut' ] \n",
    "g=g.sample(frac=0.49,random_state=2021)\n",
    "so=df1[df1.Crop == 'Soybean' ] \n",
    "so=so.sample(frac=0.077,random_state=2021)\n",
    "n=df1[df1.Crop == 'No Crop' ] \n",
    "n=n.sample(frac=0.095,random_state=2021)\n",
    "w=df1[df1.Crop == 'Wheat' ]\n",
    "c.shape,s.shape,so.shape,g.shape,n.shape,w.shape"
   ]
  },
  {
   "cell_type": "code",
   "execution_count": 6,
   "metadata": {},
   "outputs": [
    {
     "data": {
      "text/plain": [
       "(16127, 17)"
      ]
     },
     "execution_count": 6,
     "metadata": {},
     "output_type": "execute_result"
    }
   ],
   "source": [
    "df=pd.concat([c,s,so,g,w,n])\n",
    "df.shape"
   ]
  },
  {
   "cell_type": "code",
   "execution_count": 7,
   "metadata": {},
   "outputs": [
    {
     "data": {
      "text/plain": [
       "<matplotlib.axes._subplots.AxesSubplot at 0xebd602fa60>"
      ]
     },
     "execution_count": 7,
     "metadata": {},
     "output_type": "execute_result"
    },
    {
     "data": {
      "image/png": "[encoded data removed]",
      "text/plain": [
       "<Figure size 432x288 with 1 Axes>"
      ]
     },
     "metadata": {
      "needs_background": "light"
     },
     "output_type": "display_data"
    }
   ],
   "source": [
    "import matplotlib.pyplot as plt\n",
    "import seaborn as sns\n",
    "sns.countplot(y='Crop',data=df)"
   ]
  },
  {
   "cell_type": "code",
   "execution_count": 8,
   "metadata": {},
   "outputs": [
    {
     "data": {
      "text/html": [
       "<div>\n",
       "<style scoped>\n",
       "    .dataframe tbody tr th:only-of-type {\n",
       "        vertical-align: middle;\n",
       "    }\n",
       "\n",
       "    .dataframe tbody tr th {\n",
       "        vertical-align: top;\n",
       "    }\n",
       "\n",
       "    .dataframe thead th {\n",
       "        text-align: right;\n",
       "    }\n",
       "</style>\n",
       "<table border=\"1\" class=\"dataframe\">\n",
       "  <thead>\n",
       "    <tr style=\"text-align: right;\">\n",
       "      <th></th>\n",
       "      <th>pH</th>\n",
       "      <th>EC</th>\n",
       "      <th>OC</th>\n",
       "      <th>N</th>\n",
       "      <th>P</th>\n",
       "      <th>K</th>\n",
       "      <th>S</th>\n",
       "      <th>Zn</th>\n",
       "      <th>Fe</th>\n",
       "      <th>Cu</th>\n",
       "      <th>Mn</th>\n",
       "      <th>B</th>\n",
       "    </tr>\n",
       "  </thead>\n",
       "  <tbody>\n",
       "    <tr>\n",
       "      <th>127504</th>\n",
       "      <td>7.120</td>\n",
       "      <td>0.230</td>\n",
       "      <td>0.560</td>\n",
       "      <td>351.0000</td>\n",
       "      <td>57.0000</td>\n",
       "      <td>384.00000</td>\n",
       "      <td>4.95000</td>\n",
       "      <td>0.490</td>\n",
       "      <td>4.13</td>\n",
       "      <td>3.490</td>\n",
       "      <td>5.336</td>\n",
       "      <td>0.8300</td>\n",
       "    </tr>\n",
       "    <tr>\n",
       "      <th>61142</th>\n",
       "      <td>7.510</td>\n",
       "      <td>0.390</td>\n",
       "      <td>1.620</td>\n",
       "      <td>161.5000</td>\n",
       "      <td>30.5600</td>\n",
       "      <td>196.00000</td>\n",
       "      <td>6.86500</td>\n",
       "      <td>0.682</td>\n",
       "      <td>1.04</td>\n",
       "      <td>1.726</td>\n",
       "      <td>0.752</td>\n",
       "      <td>0.1980</td>\n",
       "    </tr>\n",
       "    <tr>\n",
       "      <th>71875</th>\n",
       "      <td>7.500</td>\n",
       "      <td>0.110</td>\n",
       "      <td>0.640</td>\n",
       "      <td>223.5000</td>\n",
       "      <td>36.0100</td>\n",
       "      <td>197.20000</td>\n",
       "      <td>6.00000</td>\n",
       "      <td>0.850</td>\n",
       "      <td>9.96</td>\n",
       "      <td>1.140</td>\n",
       "      <td>0.990</td>\n",
       "      <td>0.9100</td>\n",
       "    </tr>\n",
       "    <tr>\n",
       "      <th>137474</th>\n",
       "      <td>7.340</td>\n",
       "      <td>0.200</td>\n",
       "      <td>0.855</td>\n",
       "      <td>103.4800</td>\n",
       "      <td>125.0000</td>\n",
       "      <td>197.50000</td>\n",
       "      <td>1.55000</td>\n",
       "      <td>0.070</td>\n",
       "      <td>0.88</td>\n",
       "      <td>0.570</td>\n",
       "      <td>0.360</td>\n",
       "      <td>0.4380</td>\n",
       "    </tr>\n",
       "    <tr>\n",
       "      <th>137282</th>\n",
       "      <td>7.710</td>\n",
       "      <td>0.440</td>\n",
       "      <td>0.420</td>\n",
       "      <td>206.9700</td>\n",
       "      <td>21.2700</td>\n",
       "      <td>247.14000</td>\n",
       "      <td>2.42000</td>\n",
       "      <td>0.560</td>\n",
       "      <td>4.76</td>\n",
       "      <td>0.940</td>\n",
       "      <td>4.760</td>\n",
       "      <td>0.4400</td>\n",
       "    </tr>\n",
       "    <tr>\n",
       "      <th>...</th>\n",
       "      <td>...</td>\n",
       "      <td>...</td>\n",
       "      <td>...</td>\n",
       "      <td>...</td>\n",
       "      <td>...</td>\n",
       "      <td>...</td>\n",
       "      <td>...</td>\n",
       "      <td>...</td>\n",
       "      <td>...</td>\n",
       "      <td>...</td>\n",
       "      <td>...</td>\n",
       "      <td>...</td>\n",
       "    </tr>\n",
       "    <tr>\n",
       "      <th>148244</th>\n",
       "      <td>7.410</td>\n",
       "      <td>0.280</td>\n",
       "      <td>0.255</td>\n",
       "      <td>158.0544</td>\n",
       "      <td>101.6064</td>\n",
       "      <td>432.54400</td>\n",
       "      <td>14.66438</td>\n",
       "      <td>0.630</td>\n",
       "      <td>4.89</td>\n",
       "      <td>0.780</td>\n",
       "      <td>12.110</td>\n",
       "      <td>1.0098</td>\n",
       "    </tr>\n",
       "    <tr>\n",
       "      <th>157283</th>\n",
       "      <td>8.200</td>\n",
       "      <td>0.580</td>\n",
       "      <td>0.300</td>\n",
       "      <td>181.8800</td>\n",
       "      <td>32.4100</td>\n",
       "      <td>32.41952</td>\n",
       "      <td>9.40000</td>\n",
       "      <td>0.530</td>\n",
       "      <td>4.20</td>\n",
       "      <td>0.460</td>\n",
       "      <td>2.700</td>\n",
       "      <td>0.5000</td>\n",
       "    </tr>\n",
       "    <tr>\n",
       "      <th>166170</th>\n",
       "      <td>7.382</td>\n",
       "      <td>0.131</td>\n",
       "      <td>0.330</td>\n",
       "      <td>147.8400</td>\n",
       "      <td>8.2000</td>\n",
       "      <td>421.10000</td>\n",
       "      <td>17.60000</td>\n",
       "      <td>0.284</td>\n",
       "      <td>3.85</td>\n",
       "      <td>0.322</td>\n",
       "      <td>1.270</td>\n",
       "      <td>0.9740</td>\n",
       "    </tr>\n",
       "    <tr>\n",
       "      <th>164515</th>\n",
       "      <td>7.220</td>\n",
       "      <td>0.190</td>\n",
       "      <td>1.700</td>\n",
       "      <td>112.8000</td>\n",
       "      <td>55.1000</td>\n",
       "      <td>265.40000</td>\n",
       "      <td>18.20000</td>\n",
       "      <td>0.620</td>\n",
       "      <td>6.10</td>\n",
       "      <td>1.710</td>\n",
       "      <td>9.220</td>\n",
       "      <td>0.4500</td>\n",
       "    </tr>\n",
       "    <tr>\n",
       "      <th>151465</th>\n",
       "      <td>7.530</td>\n",
       "      <td>0.620</td>\n",
       "      <td>0.630</td>\n",
       "      <td>225.7900</td>\n",
       "      <td>6.8100</td>\n",
       "      <td>380.80000</td>\n",
       "      <td>14.16000</td>\n",
       "      <td>0.390</td>\n",
       "      <td>6.39</td>\n",
       "      <td>2.220</td>\n",
       "      <td>11.250</td>\n",
       "      <td>0.0700</td>\n",
       "    </tr>\n",
       "  </tbody>\n",
       "</table>\n",
       "<p>16127 rows × 12 columns</p>\n",
       "</div>"
      ],
      "text/plain": [
       "           pH     EC     OC         N         P          K         S     Zn  \\\n",
       "127504  7.120  0.230  0.560  351.0000   57.0000  384.00000   4.95000  0.490   \n",
       "61142   7.510  0.390  1.620  161.5000   30.5600  196.00000   6.86500  0.682   \n",
       "71875   7.500  0.110  0.640  223.5000   36.0100  197.20000   6.00000  0.850   \n",
       "137474  7.340  0.200  0.855  103.4800  125.0000  197.50000   1.55000  0.070   \n",
       "137282  7.710  0.440  0.420  206.9700   21.2700  247.14000   2.42000  0.560   \n",
       "...       ...    ...    ...       ...       ...        ...       ...    ...   \n",
       "148244  7.410  0.280  0.255  158.0544  101.6064  432.54400  14.66438  0.630   \n",
       "157283  8.200  0.580  0.300  181.8800   32.4100   32.41952   9.40000  0.530   \n",
       "166170  7.382  0.131  0.330  147.8400    8.2000  421.10000  17.60000  0.284   \n",
       "164515  7.220  0.190  1.700  112.8000   55.1000  265.40000  18.20000  0.620   \n",
       "151465  7.530  0.620  0.630  225.7900    6.8100  380.80000  14.16000  0.390   \n",
       "\n",
       "          Fe     Cu      Mn       B  \n",
       "127504  4.13  3.490   5.336  0.8300  \n",
       "61142   1.04  1.726   0.752  0.1980  \n",
       "71875   9.96  1.140   0.990  0.9100  \n",
       "137474  0.88  0.570   0.360  0.4380  \n",
       "137282  4.76  0.940   4.760  0.4400  \n",
       "...      ...    ...     ...     ...  \n",
       "148244  4.89  0.780  12.110  1.0098  \n",
       "157283  4.20  0.460   2.700  0.5000  \n",
       "166170  3.85  0.322   1.270  0.9740  \n",
       "164515  6.10  1.710   9.220  0.4500  \n",
       "151465  6.39  2.220  11.250  0.0700  \n",
       "\n",
       "[16127 rows x 12 columns]"
      ]
     },
     "execution_count": 8,
     "metadata": {},
     "output_type": "execute_result"
    }
   ],
   "source": [
    "#a=df.iloc[:,2:14]\n",
    "x=df.iloc[:,2:14]\n",
    "#x=df.iloc[:,:14]\n",
    "#x=x.drop(['Village'],axis=1)\n",
    "#x=pd.get_dummies(x)\n",
    "x"
   ]
  },
  {
   "cell_type": "markdown",
   "metadata": {},
   "source": [
    "#### Encode target and categorical labels with value between 0 and n_classes-1.\n",
    "\n",
    "from sklearn import preprocessing\n",
    "le = preprocessing.LabelEncoder()\n",
    "b=le.fit_transform(df.iloc[:,0])\n",
    "b=pd.DataFrame(data=b,columns=['District'],index=df.index)\n",
    "#b\n",
    "\n",
    "x= pd.concat([b,a], axis=1)\n",
    "x"
   ]
  },
  {
   "cell_type": "code",
   "execution_count": 9,
   "metadata": {},
   "outputs": [
    {
     "data": {
      "text/plain": [
       "127504     Cotton\n",
       "61142      Cotton\n",
       "71875      Cotton\n",
       "137474     Cotton\n",
       "137282     Cotton\n",
       "           ...   \n",
       "148244    No Crop\n",
       "157283    No Crop\n",
       "166170    No Crop\n",
       "164515    No Crop\n",
       "151465    No Crop\n",
       "Name: Crop, Length: 16127, dtype: object"
      ]
     },
     "execution_count": 9,
     "metadata": {},
     "output_type": "execute_result"
    }
   ],
   "source": [
    "y=df.iloc[:,16]\n",
    "y"
   ]
  },
  {
   "cell_type": "code",
   "execution_count": 10,
   "metadata": {},
   "outputs": [
    {
     "data": {
      "text/plain": [
       "array([0, 0, 0, ..., 2, 2, 2])"
      ]
     },
     "execution_count": 10,
     "metadata": {},
     "output_type": "execute_result"
    }
   ],
   "source": [
    "from sklearn import preprocessing\n",
    "le = preprocessing.LabelEncoder()\n",
    "y=le.fit_transform(y)\n",
    "y"
   ]
  },
  {
   "cell_type": "markdown",
   "metadata": {},
   "source": [
    "#### Spliting of data into train-test datasets"
   ]
  },
  {
   "cell_type": "code",
   "execution_count": 11,
   "metadata": {},
   "outputs": [],
   "source": [
    "from sklearn.model_selection import train_test_split\n",
    "X_train, X_test, y_train, y_test = train_test_split(x, y,test_size = 0.3,random_state=2021,stratify=y)"
   ]
  },
  {
   "cell_type": "code",
   "execution_count": 12,
   "metadata": {},
   "outputs": [
    {
     "data": {
      "text/plain": [
       "((11288, 12), (4839, 12), (11288,), (4839,))"
      ]
     },
     "execution_count": 12,
     "metadata": {},
     "output_type": "execute_result"
    }
   ],
   "source": [
    "X_train.shape, X_test.shape , y_train.shape , y_test.shape"
   ]
  },
  {
   "cell_type": "markdown",
   "metadata": {},
   "source": [
    "##### Randomized SearchCV VS Grid SearchCV\n",
    "With small data sets and lots of resources, Grid Search will produce accurate results. However, with large data sets, the high dimensions will greatly slow down computation time and be very costly. In this instance, it is advised to use Randomized Search since the number of iterations is explicitly defined by the data scientist."
   ]
  },
  {
   "cell_type": "markdown",
   "metadata": {},
   "source": [
    "# KNN Classifier \n",
    "\n",
    "Neighbors-based classification is a type of instance-based learning or non-generalizing learning: it does not attempt to construct a general internal model, but simply stores instances of the training data. Classification is computed from a simple majority vote of the nearest neighbors of each point: a query point is assigned the data class which has the most representatives within the nearest neighbors of the point."
   ]
  },
  {
   "cell_type": "code",
   "execution_count": 13,
   "metadata": {},
   "outputs": [],
   "source": [
    "from sklearn.neighbors import KNeighborsClassifier\n",
    "\n",
    "knn_clf=KNeighborsClassifier()\n",
    "\n",
    "knn_clf.fit(X_train,y_train)\n",
    "ypred=knn_clf.predict(X_test)"
   ]
  },
  {
   "cell_type": "code",
   "execution_count": 14,
   "metadata": {},
   "outputs": [
    {
     "name": "stdout",
     "output_type": "stream",
     "text": [
      "confusion matrix\n",
      " [[441 116  72  99  89  38]\n",
      " [ 30 670   5  23  44  24]\n",
      " [139  36 498 105  16  22]\n",
      " [169  94 118 335  43  36]\n",
      " [129 132  18  70 390  56]\n",
      " [ 27  21  23  28  23 660]]\n",
      "Classification report\n",
      "               precision    recall  f1-score   support\n",
      "\n",
      "           0       0.47      0.52      0.49       855\n",
      "           1       0.63      0.84      0.72       796\n",
      "           2       0.68      0.61      0.64       816\n",
      "           3       0.51      0.42      0.46       795\n",
      "           4       0.64      0.49      0.56       795\n",
      "           5       0.79      0.84      0.82       782\n",
      "\n",
      "    accuracy                           0.62      4839\n",
      "   macro avg       0.62      0.62      0.61      4839\n",
      "weighted avg       0.62      0.62      0.61      4839\n",
      "\n",
      "Accuracy_score\n",
      " 0.6187228766274023\n"
     ]
    }
   ],
   "source": [
    "from sklearn.metrics import classification_report,confusion_matrix,accuracy_score\n",
    "result=confusion_matrix(y_test,ypred)\n",
    "print(\"confusion matrix\\n\",result)\n",
    "result1=classification_report(y_test,ypred)\n",
    "print(\"Classification report\\n\",result1)\n",
    "result2=accuracy_score(y_test,ypred)\n",
    "print(\"Accuracy_score\\n\",result2)"
   ]
  },
  {
   "cell_type": "code",
   "execution_count": 15,
   "metadata": {},
   "outputs": [
    {
     "data": {
      "text/plain": [
       "<sklearn.metrics._plot.confusion_matrix.ConfusionMatrixDisplay at 0xebdc7c3f40>"
      ]
     },
     "execution_count": 15,
     "metadata": {},
     "output_type": "execute_result"
    },
    {
     "data": {
      "image/png": "[encoded data removed]",
      "text/plain": [
       "<Figure size 432x288 with 2 Axes>"
      ]
     },
     "metadata": {
      "needs_background": "light"
     },
     "output_type": "display_data"
    }
   ],
   "source": [
    "from sklearn.metrics import ConfusionMatrixDisplay\n",
    "\n",
    "ConfusionMatrixDisplay(result).plot()"
   ]
  },
  {
   "cell_type": "code",
   "execution_count": 16,
   "metadata": {},
   "outputs": [
    {
     "name": "stdout",
     "output_type": "stream",
     "text": [
      "{'n_neighbors': array([1, 2, 3, 4, 5, 6, 7, 8, 9])}\n",
      "{'n_neighbors': 1}\n",
      "0.7334905635894404\n"
     ]
    }
   ],
   "source": [
    "from sklearn.model_selection import RandomizedSearchCV\n",
    "\n",
    "parameters = {'n_neighbors': np.arange(1,10)}\n",
    "print(parameters)\n",
    "\n",
    "from sklearn.model_selection import StratifiedKFold\n",
    "kfold = StratifiedKFold(n_splits=5, random_state=2021,shuffle=True)\n",
    "\n",
    "knn = KNeighborsClassifier()\n",
    "\n",
    "# Tuned according to accuracy score\n",
    "cv = RandomizedSearchCV(knn, param_distributions=parameters,cv=kfold,scoring='accuracy')\n",
    "cv.fit( x , y )\n",
    "\n",
    "#print(cv.cv_results_)\n",
    "\n",
    "print(cv.best_params_)\n",
    "\n",
    "print(cv.best_score_)\n"
   ]
  },
  {
   "cell_type": "markdown",
   "metadata": {},
   "source": [
    "#### Analysis:\n",
    "Above KNN-model without tuning perdict 61.8% accuracy on test data whereas the model with K-nearest neighbor{'n_neighbors': 1} as tuning parameter perdict 73% of accuracy. "
   ]
  },
  {
   "cell_type": "markdown",
   "metadata": {},
   "source": [
    "# Decision Tree\n",
    "\n",
    "Decision Trees (DTs) are a non-parametric supervised learning method used for classification and regression. The goal is to create a model that predicts the value of a target variable by learning simple decision rules inferred from the data features."
   ]
  },
  {
   "cell_type": "code",
   "execution_count": 17,
   "metadata": {},
   "outputs": [],
   "source": [
    "from sklearn.tree import DecisionTreeClassifier\n",
    "depth_range = [3,4,5,8,10,15,20]\n",
    "minsplit_range = [5,10,20,25,30,40]\n",
    "minleaf_range = [5,10]\n",
    "\n",
    "parameters = dict(max_depth=depth_range,\n",
    "                  min_samples_split=minsplit_range, \n",
    "                  min_samples_leaf=minleaf_range)"
   ]
  },
  {
   "cell_type": "code",
   "execution_count": 18,
   "metadata": {},
   "outputs": [
    {
     "name": "stdout",
     "output_type": "stream",
     "text": [
      "{'min_samples_split': 10, 'min_samples_leaf': 5, 'max_depth': 15}\n",
      "0.8240209153342273\n"
     ]
    }
   ],
   "source": [
    "from sklearn.model_selection import StratifiedKFold\n",
    "kfold = StratifiedKFold(n_splits=5, random_state=2021,shuffle=True)\n",
    "\n",
    "from sklearn.model_selection import RandomizedSearchCV\n",
    "dtclf = DecisionTreeClassifier(random_state=2021)\n",
    "cv = RandomizedSearchCV(dtclf,cv=kfold,param_distributions=parameters,scoring='accuracy')\n",
    "\n",
    "cv.fit(x,y)\n",
    "# Best Parameters\n",
    "print(cv.best_params_)\n",
    "print(cv.best_score_)"
   ]
  },
  {
   "cell_type": "code",
   "execution_count": 19,
   "metadata": {},
   "outputs": [],
   "source": [
    "dtclf.fit(X_train,y_train)\n",
    "preds=dtclf.predict(X_test)\n",
    "#preds=cv.predict(X_test)"
   ]
  },
  {
   "cell_type": "code",
   "execution_count": 20,
   "metadata": {},
   "outputs": [
    {
     "name": "stdout",
     "output_type": "stream",
     "text": [
      "Confusion matrix\n",
      " [[671  19  43  62  48  12]\n",
      " [  3 781   1   7   4   0]\n",
      " [ 52   6 630  90  20  18]\n",
      " [ 59  20  67 611  20  18]\n",
      " [ 25  27  13  12 715   3]\n",
      " [  2   0   3  11   2 764]]\n",
      "Classification report\n",
      "               precision    recall  f1-score   support\n",
      "\n",
      "           0       0.83      0.78      0.81       855\n",
      "           1       0.92      0.98      0.95       796\n",
      "           2       0.83      0.77      0.80       816\n",
      "           3       0.77      0.77      0.77       795\n",
      "           4       0.88      0.90      0.89       795\n",
      "           5       0.94      0.98      0.96       782\n",
      "\n",
      "    accuracy                           0.86      4839\n",
      "   macro avg       0.86      0.86      0.86      4839\n",
      "weighted avg       0.86      0.86      0.86      4839\n",
      "\n",
      "Accuracy_score\n",
      " 0.8621616036371151\n"
     ]
    }
   ],
   "source": [
    "from sklearn.metrics import classification_report,confusion_matrix,accuracy_score\n",
    "result=confusion_matrix(y_test,preds)\n",
    "print(\"Confusion matrix\\n\",result)\n",
    "result1=classification_report(y_test,preds)\n",
    "print(\"Classification report\\n\",result1)\n",
    "result2=accuracy_score(y_test,preds)\n",
    "print(\"Accuracy_score\\n\",result2)"
   ]
  },
  {
   "cell_type": "code",
   "execution_count": 21,
   "metadata": {},
   "outputs": [
    {
     "data": {
      "text/plain": [
       "<sklearn.metrics._plot.confusion_matrix.ConfusionMatrixDisplay at 0xebdd0ccbe0>"
      ]
     },
     "execution_count": 21,
     "metadata": {},
     "output_type": "execute_result"
    },
    {
     "data": {
      "image/png": "[encoded data removed]",
      "text/plain": [
       "<Figure size 432x288 with 2 Axes>"
      ]
     },
     "metadata": {
      "needs_background": "light"
     },
     "output_type": "display_data"
    }
   ],
   "source": [
    "from sklearn.metrics import ConfusionMatrixDisplay\n",
    "\n",
    "ConfusionMatrixDisplay(result).plot()"
   ]
  },
  {
   "cell_type": "markdown",
   "metadata": {},
   "source": [
    "#### Analysis:\n",
    "Above Decision Trees model without tuning perdict 86% accuracy on test data whereas the model with {'min_samples_split': 10, 'min_samples_leaf': 5, 'max_depth': 15} as tuning parameter perdict 82% of accuracy."
   ]
  },
  {
   "cell_type": "markdown",
   "metadata": {},
   "source": [
    "# Random Forest \n",
    "\n",
    "A random forest is a meta estimator that fits a number of decision tree classifiers on various sub-samples of the dataset and uses averaging to improve the predictive accuracy and control over-fitting."
   ]
  },
  {
   "cell_type": "code",
   "execution_count": 22,
   "metadata": {},
   "outputs": [],
   "source": [
    "from sklearn.ensemble import RandomForestClassifier\n",
    "rm=RandomForestClassifier(random_state=2021)\n",
    "rm.fit(X_train,y_train)\n",
    "predx=rm.predict(X_test)"
   ]
  },
  {
   "cell_type": "code",
   "execution_count": 23,
   "metadata": {},
   "outputs": [
    {
     "name": "stdout",
     "output_type": "stream",
     "text": [
      "confusion matrix\n",
      " [[754   5  15  46  27   8]\n",
      " [  3 790   0   1   2   0]\n",
      " [ 37   8 683  62  24   2]\n",
      " [ 32  11  43 696   7   6]\n",
      " [ 19  14   0   8 753   1]\n",
      " [  1   0   4   5   2 770]]\n",
      "Classification report\n",
      "               precision    recall  f1-score   support\n",
      "\n",
      "           0       0.89      0.88      0.89       855\n",
      "           1       0.95      0.99      0.97       796\n",
      "           2       0.92      0.84      0.88       816\n",
      "           3       0.85      0.88      0.86       795\n",
      "           4       0.92      0.95      0.94       795\n",
      "           5       0.98      0.98      0.98       782\n",
      "\n",
      "    accuracy                           0.92      4839\n",
      "   macro avg       0.92      0.92      0.92      4839\n",
      "weighted avg       0.92      0.92      0.92      4839\n",
      "\n",
      "Accuracy_score\n",
      " 0.9187848729076256\n"
     ]
    }
   ],
   "source": [
    "result=confusion_matrix(y_test,predx)\n",
    "print(\"confusion matrix\\n\",result)\n",
    "result1=classification_report(y_test,predx)\n",
    "print(\"Classification report\\n\",result1)\n",
    "result2=accuracy_score(y_test,predx)\n",
    "print(\"Accuracy_score\\n\",result2)"
   ]
  },
  {
   "cell_type": "code",
   "execution_count": 24,
   "metadata": {},
   "outputs": [
    {
     "data": {
      "text/plain": [
       "<sklearn.metrics._plot.confusion_matrix.ConfusionMatrixDisplay at 0xebdcb2a880>"
      ]
     },
     "execution_count": 24,
     "metadata": {},
     "output_type": "execute_result"
    },
    {
     "data": {
      "image/png": "[encoded data removed]",
      "text/plain": [
       "<Figure size 432x288 with 2 Axes>"
      ]
     },
     "metadata": {
      "needs_background": "light"
     },
     "output_type": "display_data"
    }
   ],
   "source": [
    "from sklearn.metrics import ConfusionMatrixDisplay\n",
    "\n",
    "ConfusionMatrixDisplay(result).plot()"
   ]
  },
  {
   "cell_type": "code",
   "execution_count": 25,
   "metadata": {},
   "outputs": [
    {
     "name": "stdout",
     "output_type": "stream",
     "text": [
      "{'max_features': array([ 1,  2,  3,  4,  5,  6,  7,  8,  9, 10])}\n",
      "{'max_features': 2}\n",
      "0.9226137631742096\n",
      "RandomForestClassifier(max_features=2, random_state=2021)\n"
     ]
    }
   ],
   "source": [
    "import numpy as np\n",
    "parameters = {'max_features': np.arange(1,11)}\n",
    "print(parameters)\n",
    "\n",
    "from sklearn.model_selection import StratifiedKFold\n",
    "kfold = StratifiedKFold(n_splits=5, random_state=2021,shuffle=True)\n",
    "\n",
    "model_rf = RandomForestClassifier(random_state=2021)\n",
    "from sklearn.model_selection import RandomizedSearchCV\n",
    "cv = RandomizedSearchCV(model_rf,cv=kfold,param_distributions=parameters,scoring='accuracy')\n",
    "\n",
    "cv.fit( x , y )\n",
    "\n",
    "print(cv.best_params_)\n",
    "\n",
    "print(cv.best_score_)\n",
    "\n",
    "print(cv.best_estimator_)\n"
   ]
  },
  {
   "cell_type": "markdown",
   "metadata": {},
   "source": [
    "#### Analysis:\n",
    "Above Random Forest model without tuning perdict 91.8% accuracy on test data whereas the model with (max_features=2, random_state=2021) as tuning parameter perdict 92% of accuracy."
   ]
  },
  {
   "cell_type": "markdown",
   "metadata": {},
   "source": [
    "# SVM\n",
    "\n",
    "Support vector machines (SVMs) are a set of supervised learning methods used for classification, regression and outliers detection.\n",
    "\n",
    "SVM implement the “one-versus-one” approach for multi-class classification. In total, n_classes * (n_classes - 1) / 2 classifiers are constructed and each one trains data from two classes.To provide a consistent interface with other classifiers, the decision_function_shape option allows to monotonically transform the results of the “one-versus-one” classifiers to a “one-vs-rest” decision function of shape (n_samples, n_classes).\n",
    "\n",
    "\n",
    "## SVC-OVO"
   ]
  },
  {
   "cell_type": "markdown",
   "metadata": {},
   "source": [
    "from sklearn.preprocessing import StandardScaler\n",
    "scaler=StandardScaler()\n",
    "x=scaler.fit_transform(x)"
   ]
  },
  {
   "cell_type": "code",
   "execution_count": 26,
   "metadata": {},
   "outputs": [],
   "source": [
    "from sklearn.svm import SVC\n",
    "from sklearn.model_selection import RandomizedSearchCV\n",
    "\n",
    "C_range = np.linspace(1,10,5)\n",
    "gamma_range = np.linspace(0.1,10,5)\n",
    "\n",
    "param_grid = dict(gamma=gamma_range,C=C_range)"
   ]
  },
  {
   "cell_type": "code",
   "execution_count": 27,
   "metadata": {},
   "outputs": [
    {
     "data": {
      "text/plain": [
       "{'gamma': array([ 0.1  ,  2.575,  5.05 ,  7.525, 10.   ]),\n",
       " 'C': array([ 1.  ,  3.25,  5.5 ,  7.75, 10.  ])}"
      ]
     },
     "execution_count": 27,
     "metadata": {},
     "output_type": "execute_result"
    }
   ],
   "source": [
    "param_grid "
   ]
  },
  {
   "cell_type": "code",
   "execution_count": 28,
   "metadata": {},
   "outputs": [
    {
     "name": "stdout",
     "output_type": "stream",
     "text": [
      "Fitting 5 folds for each of 2 candidates, totalling 10 fits\n",
      "[CV] gamma=10.0, C=3.25 ..............................................\n"
     ]
    },
    {
     "name": "stderr",
     "output_type": "stream",
     "text": [
      "[Parallel(n_jobs=1)]: Using backend SequentialBackend with 1 concurrent workers.\n"
     ]
    },
    {
     "name": "stdout",
     "output_type": "stream",
     "text": [
      "[CV] .................. gamma=10.0, C=3.25, score=0.639, total= 2.2min\n",
      "[CV] gamma=10.0, C=3.25 ..............................................\n"
     ]
    },
    {
     "name": "stderr",
     "output_type": "stream",
     "text": [
      "[Parallel(n_jobs=1)]: Done   1 out of   1 | elapsed:  2.2min remaining:    0.0s\n"
     ]
    },
    {
     "name": "stdout",
     "output_type": "stream",
     "text": [
      "[CV] .................. gamma=10.0, C=3.25, score=0.622, total= 1.9min\n",
      "[CV] gamma=10.0, C=3.25 ..............................................\n"
     ]
    },
    {
     "name": "stderr",
     "output_type": "stream",
     "text": [
      "[Parallel(n_jobs=1)]: Done   2 out of   2 | elapsed:  4.1min remaining:    0.0s\n"
     ]
    },
    {
     "name": "stdout",
     "output_type": "stream",
     "text": [
      "[CV] .................. gamma=10.0, C=3.25, score=0.621, total= 2.0min\n",
      "[CV] gamma=10.0, C=3.25 ..............................................\n",
      "[CV] .................. gamma=10.0, C=3.25, score=0.629, total= 2.1min\n",
      "[CV] gamma=10.0, C=3.25 ..............................................\n",
      "[CV] .................. gamma=10.0, C=3.25, score=0.621, total= 2.2min\n",
      "[CV] gamma=7.525, C=3.25 .............................................\n",
      "[CV] ................. gamma=7.525, C=3.25, score=0.639, total= 2.3min\n",
      "[CV] gamma=7.525, C=3.25 .............................................\n",
      "[CV] ................. gamma=7.525, C=3.25, score=0.622, total= 2.4min\n",
      "[CV] gamma=7.525, C=3.25 .............................................\n",
      "[CV] ................. gamma=7.525, C=3.25, score=0.620, total= 2.4min\n",
      "[CV] gamma=7.525, C=3.25 .............................................\n",
      "[CV] ................. gamma=7.525, C=3.25, score=0.629, total= 2.3min\n",
      "[CV] gamma=7.525, C=3.25 .............................................\n",
      "[CV] ................. gamma=7.525, C=3.25, score=0.622, total= 2.3min\n"
     ]
    },
    {
     "name": "stderr",
     "output_type": "stream",
     "text": [
      "[Parallel(n_jobs=1)]: Done  10 out of  10 | elapsed: 22.1min finished\n"
     ]
    },
    {
     "name": "stdout",
     "output_type": "stream",
     "text": [
      "{'gamma': 10.0, 'C': 3.25}\n",
      "0.6267124766312471\n"
     ]
    }
   ],
   "source": [
    "from sklearn.model_selection import StratifiedKFold\n",
    "kfold = StratifiedKFold(n_splits=5, random_state=2021,shuffle=True)\n",
    "svc=SVC(probability=True,kernel='rbf',decision_function_shape='ovo')\n",
    "svmGrid =RandomizedSearchCV(svc,param_distributions=param_grid, cv=kfold,verbose=3,n_iter=2)\n",
    "\n",
    "svmGrid.fit(x,y)\n",
    "print(svmGrid.best_params_)\n",
    "print(svmGrid.best_score_)"
   ]
  },
  {
   "cell_type": "code",
   "execution_count": 29,
   "metadata": {},
   "outputs": [],
   "source": [
    "svc.fit(X_train,y_train)\n",
    "pred=svc.predict(X_test)"
   ]
  },
  {
   "cell_type": "code",
   "execution_count": 30,
   "metadata": {},
   "outputs": [
    {
     "name": "stdout",
     "output_type": "stream",
     "text": [
      "confusion matrix\n",
      " [[216 183 208 119  80  49]\n",
      " [ 62 410  37  82  45 160]\n",
      " [ 63  73 572  76  19  13]\n",
      " [ 92 142 170 272  79  40]\n",
      " [111 176  70 110 218 110]\n",
      " [ 57  37 126  46  48 468]]\n",
      "Classification report\n",
      "               precision    recall  f1-score   support\n",
      "\n",
      "           0       0.36      0.25      0.30       855\n",
      "           1       0.40      0.52      0.45       796\n",
      "           2       0.48      0.70      0.57       816\n",
      "           3       0.39      0.34      0.36       795\n",
      "           4       0.45      0.27      0.34       795\n",
      "           5       0.56      0.60      0.58       782\n",
      "\n",
      "    accuracy                           0.45      4839\n",
      "   macro avg       0.44      0.45      0.43      4839\n",
      "weighted avg       0.44      0.45      0.43      4839\n",
      "\n",
      "Accuracy_score\n",
      " 0.4455466005373011\n"
     ]
    }
   ],
   "source": [
    "from sklearn.metrics import classification_report,confusion_matrix,accuracy_score\n",
    "\n",
    "result=confusion_matrix(y_test,pred)\n",
    "print(\"confusion matrix\\n\",result)\n",
    "result1=classification_report(y_test,pred)\n",
    "print(\"Classification report\\n\",result1)\n",
    "result2=accuracy_score(y_test,pred)\n",
    "print(\"Accuracy_score\\n\",result2)"
   ]
  },
  {
   "cell_type": "code",
   "execution_count": 31,
   "metadata": {},
   "outputs": [
    {
     "data": {
      "text/plain": [
       "<sklearn.metrics._plot.confusion_matrix.ConfusionMatrixDisplay at 0xebe2d54ca0>"
      ]
     },
     "execution_count": 31,
     "metadata": {},
     "output_type": "execute_result"
    },
    {
     "data": {
      "image/png": "[encoded data removed]",
      "text/plain": [
       "<Figure size 432x288 with 2 Axes>"
      ]
     },
     "metadata": {
      "needs_background": "light"
     },
     "output_type": "display_data"
    }
   ],
   "source": [
    "from sklearn.metrics import ConfusionMatrixDisplay\n",
    "\n",
    "ConfusionMatrixDisplay(result).plot()"
   ]
  },
  {
   "cell_type": "markdown",
   "metadata": {},
   "source": [
    "#### Analysis:\n",
    "Above Support Vector Classifier(OVO) model without tuning perdict 44% accuracy on test data whereas the model with {'gamma': 10, 'C': 3.25} as tuning parameter perdict 62% of accuracy."
   ]
  },
  {
   "cell_type": "markdown",
   "metadata": {},
   "source": [
    "## SVM OVR"
   ]
  },
  {
   "cell_type": "code",
   "execution_count": 32,
   "metadata": {},
   "outputs": [
    {
     "name": "stdout",
     "output_type": "stream",
     "text": [
      "Fitting 2 folds for each of 2 candidates, totalling 4 fits\n"
     ]
    },
    {
     "name": "stderr",
     "output_type": "stream",
     "text": [
      "[Parallel(n_jobs=1)]: Using backend SequentialBackend with 1 concurrent workers.\n",
      "[Parallel(n_jobs=1)]: Done   4 out of   4 | elapsed:  3.7min finished\n"
     ]
    },
    {
     "name": "stdout",
     "output_type": "stream",
     "text": [
      "{'gamma': 0.1, 'C': 7.75}\n",
      "0.5692935140357975\n"
     ]
    }
   ],
   "source": [
    "from sklearn.model_selection import StratifiedKFold\n",
    "kfold = StratifiedKFold(n_splits=2, random_state=2020,shuffle=True)\n",
    "svc=SVC(probability=True,kernel='rbf',decision_function_shape='ovr')                       \n",
    "svmGrid =RandomizedSearchCV(svc,param_distributions=param_grid, cv=kfold,verbose=True,n_iter=2)\n",
    "svmGrid.fit(x, y)\n",
    "# Best Parameters\n",
    "print(svmGrid.best_params_)\n",
    "print(svmGrid.best_score_)"
   ]
  },
  {
   "cell_type": "code",
   "execution_count": 33,
   "metadata": {},
   "outputs": [],
   "source": [
    "svc.fit(X_train,y_train)\n",
    "prede=svc.predict(X_test)"
   ]
  },
  {
   "cell_type": "code",
   "execution_count": 34,
   "metadata": {},
   "outputs": [
    {
     "name": "stdout",
     "output_type": "stream",
     "text": [
      "confusion matrix\n",
      " [[216 183 208 119  80  49]\n",
      " [ 62 410  37  82  45 160]\n",
      " [ 63  73 572  76  19  13]\n",
      " [ 92 142 170 272  79  40]\n",
      " [111 176  70 110 218 110]\n",
      " [ 57  37 126  46  48 468]]\n",
      "Classification report\n",
      "               precision    recall  f1-score   support\n",
      "\n",
      "           0       0.36      0.25      0.30       855\n",
      "           1       0.40      0.52      0.45       796\n",
      "           2       0.48      0.70      0.57       816\n",
      "           3       0.39      0.34      0.36       795\n",
      "           4       0.45      0.27      0.34       795\n",
      "           5       0.56      0.60      0.58       782\n",
      "\n",
      "    accuracy                           0.45      4839\n",
      "   macro avg       0.44      0.45      0.43      4839\n",
      "weighted avg       0.44      0.45      0.43      4839\n",
      "\n",
      "Accuracy_score\n",
      " 0.4455466005373011\n"
     ]
    }
   ],
   "source": [
    "result=confusion_matrix(y_test,prede)\n",
    "print(\"confusion matrix\\n\",result)\n",
    "result1=classification_report(y_test,prede)\n",
    "print(\"Classification report\\n\",result1)\n",
    "result2=accuracy_score(y_test,prede)\n",
    "print(\"Accuracy_score\\n\",result2)"
   ]
  },
  {
   "cell_type": "code",
   "execution_count": 35,
   "metadata": {},
   "outputs": [
    {
     "data": {
      "text/plain": [
       "<sklearn.metrics._plot.confusion_matrix.ConfusionMatrixDisplay at 0xebe2d8af70>"
      ]
     },
     "execution_count": 35,
     "metadata": {},
     "output_type": "execute_result"
    },
    {
     "data": {
      "image/png": "[encoded data removed]",
      "text/plain": [
       "<Figure size 432x288 with 2 Axes>"
      ]
     },
     "metadata": {
      "needs_background": "light"
     },
     "output_type": "display_data"
    }
   ],
   "source": [
    "from sklearn.metrics import ConfusionMatrixDisplay\n",
    "\n",
    "ConfusionMatrixDisplay(result).plot()"
   ]
  },
  {
   "cell_type": "markdown",
   "metadata": {},
   "source": [
    "#### Analysis:\n",
    "Above Support Vector Classifier(OVR) model without tuning perdict 44% accuracy on test data whereas the model with {'gamma': 0.1, 'C': 7.75} as tuning parameter perdict 56% of accuracy."
   ]
  },
  {
   "cell_type": "markdown",
   "metadata": {},
   "source": [
    "# Extreme Gradient Boosting\n",
    "\n",
    "Gradient boosting is a machine learning technique for regression and classification problems, which produces a prediction model in the form of an ensemble of weak prediction models, typically decision trees. It builds the model in a stage-wise fashion like other boosting methods do, and it generalizes them by allowing optimization of an arbitrary differentiable loss function."
   ]
  },
  {
   "cell_type": "code",
   "execution_count": 36,
   "metadata": {},
   "outputs": [
    {
     "name": "stdout",
     "output_type": "stream",
     "text": [
      "[00:45:12] WARNING: C:/Users/Administrator/workspace/xgboost-win64_release_1.3.0/src/learner.cc:1061: Starting in XGBoost 1.3.0, the default evaluation metric used with the objective 'multi:softprob' was changed from 'merror' to 'mlogloss'. Explicitly set eval_metric if you'd like to restore the old behavior.\n",
      "[[777   2  10  37  25   4]\n",
      " [  1 794   0   0   1   0]\n",
      " [ 15   8 709  71   9   4]\n",
      " [ 24   4  32 723   7   5]\n",
      " [ 12   8   1   8 764   2]\n",
      " [  0   0   2   3   1 776]]\n",
      "              precision    recall  f1-score   support\n",
      "\n",
      "           0       0.94      0.91      0.92       855\n",
      "           1       0.97      1.00      0.99       796\n",
      "           2       0.94      0.87      0.90       816\n",
      "           3       0.86      0.91      0.88       795\n",
      "           4       0.95      0.96      0.95       795\n",
      "           5       0.98      0.99      0.99       782\n",
      "\n",
      "    accuracy                           0.94      4839\n",
      "   macro avg       0.94      0.94      0.94      4839\n",
      "weighted avg       0.94      0.94      0.94      4839\n",
      "\n",
      "Accuracy: 0.9388303368464559\n"
     ]
    }
   ],
   "source": [
    "# Import the necessary modules\n",
    "from sklearn.metrics import confusion_matrix, classification_report\n",
    "from sklearn.metrics import accuracy_score\n",
    "from xgboost import XGBClassifier\n",
    "\n",
    "xgclf = XGBClassifier(random_state=2021)\n",
    "xgclf.fit(X_train,y_train)\n",
    "\n",
    "y_pred = xgclf.predict(X_test)\n",
    "print(confusion_matrix(y_test, y_pred))\n",
    "print(classification_report(y_test, y_pred))\n",
    "print('Accuracy:',accuracy_score(y_test,y_pred))"
   ]
  },
  {
   "cell_type": "code",
   "execution_count": 37,
   "metadata": {},
   "outputs": [
    {
     "data": {
      "text/plain": [
       "<sklearn.metrics._plot.confusion_matrix.ConfusionMatrixDisplay at 0xebe2d8a820>"
      ]
     },
     "execution_count": 37,
     "metadata": {},
     "output_type": "execute_result"
    },
    {
     "data": {
      "image/png": "[encoded data removed]",
      "text/plain": [
       "<Figure size 432x288 with 2 Axes>"
      ]
     },
     "metadata": {
      "needs_background": "light"
     },
     "output_type": "display_data"
    }
   ],
   "source": [
    "from sklearn.metrics import ConfusionMatrixDisplay\n",
    "\n",
    "ConfusionMatrixDisplay(confusion_matrix(y_test, y_pred)).plot()"
   ]
  },
  {
   "cell_type": "code",
   "execution_count": 38,
   "metadata": {
    "scrolled": false
   },
   "outputs": [
    {
     "name": "stdout",
     "output_type": "stream",
     "text": [
      "[00:45:20] WARNING: C:/Users/Administrator/workspace/xgboost-win64_release_1.3.0/src/learner.cc:1061: Starting in XGBoost 1.3.0, the default evaluation metric used with the objective 'multi:softprob' was changed from 'merror' to 'mlogloss'. Explicitly set eval_metric if you'd like to restore the old behavior.\n",
      "[00:45:26] WARNING: C:/Users/Administrator/workspace/xgboost-win64_release_1.3.0/src/learner.cc:1061: Starting in XGBoost 1.3.0, the default evaluation metric used with the objective 'multi:softprob' was changed from 'merror' to 'mlogloss'. Explicitly set eval_metric if you'd like to restore the old behavior.\n",
      "[00:45:33] WARNING: C:/Users/Administrator/workspace/xgboost-win64_release_1.3.0/src/learner.cc:1061: Starting in XGBoost 1.3.0, the default evaluation metric used with the objective 'multi:softprob' was changed from 'merror' to 'mlogloss'. Explicitly set eval_metric if you'd like to restore the old behavior.\n",
      "[00:45:37] WARNING: C:/Users/Administrator/workspace/xgboost-win64_release_1.3.0/src/learner.cc:1061: Starting in XGBoost 1.3.0, the default evaluation metric used with the objective 'multi:softprob' was changed from 'merror' to 'mlogloss'. Explicitly set eval_metric if you'd like to restore the old behavior.\n",
      "[00:45:43] WARNING: C:/Users/Administrator/workspace/xgboost-win64_release_1.3.0/src/learner.cc:1061: Starting in XGBoost 1.3.0, the default evaluation metric used with the objective 'multi:softprob' was changed from 'merror' to 'mlogloss'. Explicitly set eval_metric if you'd like to restore the old behavior.\n",
      "[00:45:53] WARNING: C:/Users/Administrator/workspace/xgboost-win64_release_1.3.0/src/learner.cc:1061: Starting in XGBoost 1.3.0, the default evaluation metric used with the objective 'multi:softprob' was changed from 'merror' to 'mlogloss'. Explicitly set eval_metric if you'd like to restore the old behavior.\n",
      "[00:46:02] WARNING: C:/Users/Administrator/workspace/xgboost-win64_release_1.3.0/src/learner.cc:1061: Starting in XGBoost 1.3.0, the default evaluation metric used with the objective 'multi:softprob' was changed from 'merror' to 'mlogloss'. Explicitly set eval_metric if you'd like to restore the old behavior.\n",
      "[00:46:07] WARNING: C:/Users/Administrator/workspace/xgboost-win64_release_1.3.0/src/learner.cc:1061: Starting in XGBoost 1.3.0, the default evaluation metric used with the objective 'multi:softprob' was changed from 'merror' to 'mlogloss'. Explicitly set eval_metric if you'd like to restore the old behavior.\n",
      "[00:46:11] WARNING: C:/Users/Administrator/workspace/xgboost-win64_release_1.3.0/src/learner.cc:1061: Starting in XGBoost 1.3.0, the default evaluation metric used with the objective 'multi:softprob' was changed from 'merror' to 'mlogloss'. Explicitly set eval_metric if you'd like to restore the old behavior.\n",
      "[00:46:15] WARNING: C:/Users/Administrator/workspace/xgboost-win64_release_1.3.0/src/learner.cc:1061: Starting in XGBoost 1.3.0, the default evaluation metric used with the objective 'multi:softprob' was changed from 'merror' to 'mlogloss'. Explicitly set eval_metric if you'd like to restore the old behavior.\n",
      "[00:46:19] WARNING: C:/Users/Administrator/workspace/xgboost-win64_release_1.3.0/src/learner.cc:1061: Starting in XGBoost 1.3.0, the default evaluation metric used with the objective 'multi:softprob' was changed from 'merror' to 'mlogloss'. Explicitly set eval_metric if you'd like to restore the old behavior.\n",
      "{'n_estimators': 150, 'max_depth': 6, 'learning_rate': 0.6}\n",
      "0.9193277311829069\n"
     ]
    }
   ],
   "source": [
    "##################Tunning using Randomized Search CV ############\n",
    "\n",
    "lr_range = [0.1,0.2,0.5,0.6,1]\n",
    "n_est_range = [70,100,150,180]\n",
    "depth_range = [3,4,5,6,7,8,9]\n",
    "\n",
    "parameters = dict(learning_rate=lr_range,\n",
    "                  n_estimators=n_est_range,\n",
    "                  max_depth=depth_range)\n",
    "\n",
    "\n",
    "from sklearn.model_selection import RandomizedSearchCV\n",
    "clf = XGBClassifier(random_state=2021)\n",
    "rcv = RandomizedSearchCV(clf, param_distributions=parameters,\n",
    "                  cv=kfold,scoring='accuracy',n_iter=5,random_state=2021)\n",
    "\n",
    "rcv.fit(x,y)\n",
    "#df_rcv = pd.DataFrame(rcv.cv_results_)\n",
    "print(rcv.best_params_)\n",
    "\n",
    "print(rcv.best_score_)"
   ]
  },
  {
   "cell_type": "markdown",
   "metadata": {},
   "source": [
    "#### Analysis:\n",
    "Above XGBoost model without tuning predict 93.8% and with tuning parameter as {'n_estimators': 150, 'max_depth': 6, 'learning_rate': 0.6} predict 91% of accuracy on dataset.\n"
   ]
  },
  {
   "cell_type": "markdown",
   "metadata": {},
   "source": [
    "# Voting Classifier \n",
    "\n",
    "The idea behind the VotingClassifier is to combine conceptually different machine learning classifiers and use a majority vote or the average predicted probabilities (soft vote) to predict the class labels. Such a classifier can be useful for a set of equally well performing model in order to balance out their individual weaknesses."
   ]
  },
  {
   "cell_type": "code",
   "execution_count": 39,
   "metadata": {},
   "outputs": [],
   "source": [
    "from sklearn.metrics import confusion_matrix, classification_report\n",
    "from sklearn.ensemble import VotingClassifier\n",
    "from sklearn.metrics import roc_auc_score\n",
    "from sklearn.metrics import accuracy_score\n",
    "from sklearn.neighbors import KNeighborsClassifier\n",
    "from sklearn.ensemble import RandomForestClassifier\n",
    "from sklearn.tree import DecisionTreeClassifier\n",
    "from sklearn.svm import SVC\n",
    "\n",
    "rm=RandomForestClassifier(random_state=2021)\n",
    "knn=KNeighborsClassifier()\n",
    "clf = DecisionTreeClassifier(random_state=2021)\n",
    "svc_ovo=SVC(probability=True,kernel='rbf',decision_function_shape='ovo')\n",
    "svc_ovr=SVC(probability=True,kernel='rbf',decision_function_shape='ovr')\n",
    "xgclf = XGBClassifier(random_state=2021)\n",
    "\n",
    "Voting = VotingClassifier(estimators=[('KNN',knn),('RFC',rm),('DTC',clf),('SVC_OVO',svc_ovo),('SVC_OVR',svc_ovr),\n",
    "                                      ('XG',xgclf)])\n"
   ]
  },
  {
   "cell_type": "code",
   "execution_count": 40,
   "metadata": {},
   "outputs": [
    {
     "name": "stdout",
     "output_type": "stream",
     "text": [
      "[00:48:54] WARNING: C:/Users/Administrator/workspace/xgboost-win64_release_1.3.0/src/learner.cc:1061: Starting in XGBoost 1.3.0, the default evaluation metric used with the objective 'multi:softprob' was changed from 'merror' to 'mlogloss'. Explicitly set eval_metric if you'd like to restore the old behavior.\n",
      "Confusion Matrix\n",
      " [[733  17  28  41  27   9]\n",
      " [  1 793   0   1   1   0]\n",
      " [ 51  24 679  46  13   3]\n",
      " [ 70  49  98 560  13   5]\n",
      " [ 53  68  15  37 621   1]\n",
      " [ 13   3  22   8   2 734]]\n",
      "Classification Report\n",
      "               precision    recall  f1-score   support\n",
      "\n",
      "           0       0.80      0.86      0.83       855\n",
      "           1       0.83      1.00      0.91       796\n",
      "           2       0.81      0.83      0.82       816\n",
      "           3       0.81      0.70      0.75       795\n",
      "           4       0.92      0.78      0.84       795\n",
      "           5       0.98      0.94      0.96       782\n",
      "\n",
      "    accuracy                           0.85      4839\n",
      "   macro avg       0.86      0.85      0.85      4839\n",
      "weighted avg       0.85      0.85      0.85      4839\n",
      "\n",
      "Accuray= 0.8514155817317628\n"
     ]
    }
   ],
   "source": [
    "Voting.fit(X_train,y_train)\n",
    "\n",
    "y_pred = Voting.predict(X_test)\n",
    "\n",
    "print('Confusion Matrix\\n',confusion_matrix(y_test, y_pred))\n",
    "print('Classification Report\\n',classification_report(y_test, y_pred))\n",
    "print(\"Accuray=\", accuracy_score(y_test,y_pred))"
   ]
  },
  {
   "cell_type": "code",
   "execution_count": 41,
   "metadata": {},
   "outputs": [
    {
     "name": "stdout",
     "output_type": "stream",
     "text": [
      "KNeighborsClassifier 0.6187228766274023\n",
      "RandomForestClassifier 0.9187848729076256\n",
      "DecisionTreeClassifier 0.8621616036371151\n",
      "SVC 0.4455466005373011\n",
      "SVC 0.4455466005373011\n",
      "[00:51:30] WARNING: C:/Users/Administrator/workspace/xgboost-win64_release_1.3.0/src/learner.cc:1061: Starting in XGBoost 1.3.0, the default evaluation metric used with the objective 'multi:softprob' was changed from 'merror' to 'mlogloss'. Explicitly set eval_metric if you'd like to restore the old behavior.\n",
      "XGBClassifier 0.9388303368464559\n",
      "[00:53:35] WARNING: C:/Users/Administrator/workspace/xgboost-win64_release_1.3.0/src/learner.cc:1061: Starting in XGBoost 1.3.0, the default evaluation metric used with the objective 'multi:softprob' was changed from 'merror' to 'mlogloss'. Explicitly set eval_metric if you'd like to restore the old behavior.\n",
      "VotingClassifier 0.8514155817317628\n"
     ]
    }
   ],
   "source": [
    "for cls in (knn,rm,clf,svc_ovo,svc_ovr,xgclf,Voting):\n",
    "    cls.fit(X_train,y_train)\n",
    "    y_pred = cls.predict(X_test)\n",
    "    print(cls.__class__.__name__,accuracy_score(y_test,y_pred))"
   ]
  },
  {
   "cell_type": "markdown",
   "metadata": {},
   "source": [
    "#### Analysis:\n",
    "Above Voting Classifier model perdict 85% of accuracy on dataset.\n"
   ]
  }
 ],
 "metadata": {
  "kernelspec": {
   "display_name": "Python 3",
   "language": "python",
   "name": "python3"
  },
  "language_info": {
   "codemirror_mode": {
    "name": "ipython",
    "version": 3
   },
   "file_extension": ".py",
   "mimetype": "text/x-python",
   "name": "python",
   "nbconvert_exporter": "python",
   "pygments_lexer": "ipython3",
   "version": "3.8.3"
  }
 },
 "nbformat": 4,
 "nbformat_minor": 4
}
